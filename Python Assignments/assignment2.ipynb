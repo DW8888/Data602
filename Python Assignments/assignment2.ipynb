{
 "cells": [
  {
   "cell_type": "markdown",
   "metadata": {},
   "source": [
    "Q1. What will the following code display?\n",
    "numbers = [1, 2, 3, 4, 5]\n",
    "print(numbers[1:-5])\n"
   ]
  },
  {
   "cell_type": "markdown",
   "metadata": {},
   "source": [
    "Author: Darwhin Gomez\n",
    "Date: 09/09/2024"
   ]
  },
  {
   "cell_type": "markdown",
   "metadata": {},
   "source": [
    "Can you debug and fix the output? The code should return the entire list"
   ]
  },
  {
   "cell_type": "code",
   "execution_count": 10,
   "metadata": {},
   "outputs": [
    {
     "name": "stdout",
     "output_type": "stream",
     "text": [
      "[1, 2, 3, 4, 5]\n",
      "[1, 2, 3, 4, 5]\n",
      "[1, 2, 3, 4, 5]\n",
      "[1, 2, 3, 4, 5]\n"
     ]
    }
   ],
   "source": [
    "\n",
    "numbers = [1, 2, 3, 4, 5]\n",
    "print(numbers)\n",
    "print(numbers[0::])\n",
    "print(numbers[:5])\n",
    "print(numbers[::])\n"
   ]
  },
  {
   "cell_type": "markdown",
   "metadata": {},
   "source": [
    "The original code would have returned an empty list. To print an entirelist we can just call the print function and the list as an argument. we can also use slicing like shown above."
   ]
  },
  {
   "cell_type": "markdown",
   "metadata": {},
   "source": [
    "Q2. Design a program that asks the user to enter a store’s sales for each day of the\n",
    "week. The amounts should be stored in a list. Use a loop to calculate the total sales for\n",
    "the week and display the result"
   ]
  },
  {
   "cell_type": "code",
   "execution_count": 5,
   "metadata": {},
   "outputs": [
    {
     "name": "stdout",
     "output_type": "stream",
     "text": [
      "[1000, 200, 800, 1000, 2000, 1500, 900] \n",
      "The total sales for the week are $7400\n"
     ]
    }
   ],
   "source": [
    "days_of_the_week=[\"Monday\",\"Tuesday\",\"Wednesday\",\"Thurday\",\"Friday\",\"Saturday\",\"Sunday\"]\n",
    "sales_of_the_week=[]\n",
    "\n",
    "for day in days_of_the_week:\n",
    "    sale=int(input (f\"Pleease enter the sales for {day}:\\n\"))\n",
    "    sales_of_the_week.append(sale)\n",
    "\n",
    "weekly_sales=sum(sales_of_the_week)\n",
    "print(sales_of_the_week, f\"\\nThe total sales for the week are ${weekly_sales}\")"
   ]
  },
  {
   "cell_type": "markdown",
   "metadata": {},
   "source": [
    "Q3. Create a list with at least 5 places you’d like to travel to. Make sure the list isn’t in\n",
    "alphabetical order\n",
    "● Print your list in its original order.\n",
    "● Use the sort() function to arrange your list in order and reprint your list.\n",
    "● Use the sort(reverse=True) and reprint your list."
   ]
  },
  {
   "cell_type": "code",
   "execution_count": 6,
   "metadata": {},
   "outputs": [
    {
     "name": "stdout",
     "output_type": "stream",
     "text": [
      "['United Kingdom', 'Iceland', 'Greece', 'Egypt', 'Japan']\n",
      "['Egypt', 'Greece', 'Iceland', 'Japan', 'United Kingdom']\n",
      "['United Kingdom', 'Japan', 'Iceland', 'Greece', 'Egypt']\n"
     ]
    }
   ],
   "source": [
    "bucket_locations=[\"United Kingdom\",\"Iceland\",\"Greece\",\"Egypt\",\"Japan\"]\n",
    "print(bucket_locations)\n",
    "print(sorted(bucket_locations))\n",
    "print(sorted(bucket_locations, reverse=True))"
   ]
  },
  {
   "cell_type": "markdown",
   "metadata": {},
   "source": [
    "Q4. Write a program that creates a dictionary containing course numbers and the room\n",
    "numbers of the rooms where the courses meet. The program should also create a\n",
    "dictionary containing course numbers and the names of the instructors that teach each\n",
    "course. After that, the program should let the user enter a course number, then it should\n",
    "display the course’s room number, instructor, and meeting time.\n"
   ]
  },
  {
   "cell_type": "code",
   "execution_count": 14,
   "metadata": {},
   "outputs": [
    {
     "name": "stdout",
     "output_type": "stream",
     "text": [
      "Available courses:\n",
      "data602\n",
      "data603\n",
      "Math602\n"
     ]
    }
   ],
   "source": [
    "courses = {\n",
    "    \"data602\": {\"Room\": \"1201\", \"Instructor\": \"Professor A\", \"Meeting time\": \"Monday, Wednesday 12:00 - 2:00pm\"},\n",
    "    \"data603\": {\"Room\": \"1205\", \"Instructor\": \"Professor B\", \"Meeting time\": \"Monday, Friday 2:00 - 4:00pm\"},\n",
    "    \"Math602\": {\"Room\": \"1501\", \"Instructor\": \"Professor C\", \"Meeting time\": \"Tuesday, Wednesday 8:00 - 10:00am\"}\n",
    "}\n",
    "\n",
    "#printing the courses \n",
    "print(\"Available courses:\")\n",
    "for key in courses.keys():\n",
    "    print(key)\n",
    " "
   ]
  },
  {
   "cell_type": "code",
   "execution_count": 16,
   "metadata": {},
   "outputs": [
    {
     "name": "stdout",
     "output_type": "stream",
     "text": [
      "The information for course data602 is \n",
      "{'Room': '1201', 'Instructor': 'Professor A', 'Meeting time': 'Monday, Wednesday 12:00 - 2:00pm'}\n"
     ]
    }
   ],
   "source": [
    "#ask user for their course   \n",
    "display_course = input(\"Please enter the class Code:\\n\")\n",
    "if display_course in courses:\n",
    "    print(f\"The information for course {display_course} is \\n{courses[display_course]}\")\n",
    "else:\n",
    "    print(\"The course code you entered does not exist.\")\n",
    "\n"
   ]
  }
 ],
 "metadata": {
  "kernelspec": {
   "display_name": "base",
   "language": "python",
   "name": "python3"
  },
  "language_info": {
   "codemirror_mode": {
    "name": "ipython",
    "version": 3
   },
   "file_extension": ".py",
   "mimetype": "text/x-python",
   "name": "python",
   "nbconvert_exporter": "python",
   "pygments_lexer": "ipython3",
   "version": "3.12.4"
  }
 },
 "nbformat": 4,
 "nbformat_minor": 2
}
