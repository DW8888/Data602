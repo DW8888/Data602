{
 "cells": [
  {
   "cell_type": "markdown",
   "metadata": {},
   "source": [
    "Q1: Write a program that prompts the user for a meal: breakfast, lunch, or dinner. Then using if statements and else statements print the user a message recommending a meal. For example, if the meal was breakfast, you could say something like, “How about some bacon and eggs?”\n",
    "The user may enter something else in, but you only have to respond to breakfast, lunch, or dinner."
   ]
  },
  {
   "cell_type": "code",
   "execution_count": 46,
   "metadata": {},
   "outputs": [
    {
     "name": "stdout",
     "output_type": "stream",
     "text": [
      "Welcome! What would you like?\n",
      "1: Breakfast\n",
      "2: Lunch\n",
      "3: Dinner\n",
      "You selected Breakfast. I can suggest you order Bacon and eggs.\n"
     ]
    }
   ],
   "source": [
    "def im_hungry():\n",
    "    suggestions = {\n",
    "        1: \"Bacon and eggs\", \n",
    "        2: \"Slice of pizza\", \n",
    "        3: \"Steak frites\"\n",
    "    }\n",
    "\n",
    "    print(\"Welcome! What would you like?\")\n",
    "    \n",
    "    options = {\n",
    "        1: \"Breakfast\",\n",
    "        2: \"Lunch\",\n",
    "        3: \"Dinner\"\n",
    "    }\n",
    "    \n",
    "    for i in options:\n",
    "        print(f\"{i}: {options[i]}\")\n",
    "\n",
    "    try:\n",
    "        selection = int(input(\"Please enter the number of your selection: \"))\n",
    "\n",
    "        if selection in suggestions:\n",
    "            print(f\"You selected {options[selection]}. I can suggest you order {suggestions[selection]}.\")\n",
    "        else:\n",
    "            print(\"Sorry, I can only suggest meals for breakfast, lunch, or dinner.\")\n",
    "    except ValueError:\n",
    "        print(\"Please enter a valid number.\")\n",
    "\n",
    "im_hungry()\n",
    "\n"
   ]
  },
  {
   "cell_type": "markdown",
   "metadata": {},
   "source": [
    "Q2: The mailroom has asked you to design a simple payroll program that calculates a student employee’s gross pay, including any overtime wages. If any employee works over 20 hours in a week, the mailroom pays them 1.5 times their regular hourly pay rate for all hours over 20. \n",
    "You should take in the user’s input for the number of hours worked, and their rate of pay.\n",
    "\n"
   ]
  },
  {
   "cell_type": "code",
   "execution_count": 48,
   "metadata": {},
   "outputs": [
    {
     "name": "stdout",
     "output_type": "stream",
     "text": [
      "687.5\n"
     ]
    }
   ],
   "source": [
    "def mailpay():\n",
    "    hours = float(input(\"Enter hours worked this week: \"))\n",
    "    payrate = float(input(\"Enter your payrate: \"))\n",
    "    otpayrate = 1.5 * payrate\n",
    "    othours= 0\n",
    "    if hours > 20:\n",
    "        othours = hours - 20\n",
    "    pay = ((hours - othours) * payrate) + (otpayrate * othours)\n",
    "\n",
    "    print(pay)\n",
    "mailpay()\n",
    "\n"
   ]
  },
  {
   "cell_type": "markdown",
   "metadata": {},
   "source": [
    "Q3: Write a function named times_ten. The function should accept an argument and display the product of its argument multiplied times 10."
   ]
  },
  {
   "cell_type": "code",
   "execution_count": 49,
   "metadata": {},
   "outputs": [
    {
     "name": "stdout",
     "output_type": "stream",
     "text": [
      "100\n",
      "10\n",
      "50\n",
      "50\n",
      "30\n",
      "aaaaaaaaaa\n"
     ]
    }
   ],
   "source": [
    "def times_ten(arg):\n",
    " return arg * 10\n",
    "args=[10,1,5,5,3,\"a\"]\n",
    "for i in args:\n",
    " \n",
    "    print(times_ten(i))"
   ]
  },
  {
   "cell_type": "markdown",
   "metadata": {},
   "source": [
    "SQ4: Find the errors, debug the program, and then execute to show the output."
   ]
  },
  {
   "cell_type": "code",
   "execution_count": 4,
   "metadata": {},
   "outputs": [
    {
     "name": "stdout",
     "output_type": "stream",
     "text": [
      "The total calories you ate today, 452.25 + 541.0 for a total of 993.25 calories\n"
     ]
    }
   ],
   "source": [
    "def main():  #missing :\n",
    "    Calories1 = float(input( \"How many calories are in the first food?\")) # turn to a number\n",
    "    Calories2 = float(input( \"How many calories are in the first food?\"))\n",
    "    \n",
    "   \n",
    "    #align indentation\n",
    "    def showCalories(x,y):  #missing : \n",
    "        # Calories not calories f not format : not ,\n",
    "        print(f\"The total calories you ate today, {Calories1} + {Calories2} for a total of {Calories1 + Calories2:.2f} calories\")\n",
    "    showCalories(Calories1, Calories2) # move to after def showCalories\n",
    "main()#open main"
   ]
  },
  {
   "cell_type": "markdown",
   "metadata": {},
   "source": [
    "Q5: Write a program that uses any loop (while or for) that calculates the total of the following series of numbers:\n",
    "         1/30 + 2/29 + 3/28 ............. + 30/1\n"
   ]
  },
  {
   "cell_type": "code",
   "execution_count": 5,
   "metadata": {},
   "outputs": [
    {
     "name": "stdout",
     "output_type": "stream",
     "text": [
      "The total is  97.87\n"
     ]
    }
   ],
   "source": [
    "def i_hate_series():\n",
    "    bottom = 31\n",
    "    top =1\n",
    "    total =0\n",
    "    while bottom != 0: # when bottom reaches 0 stop the loop\n",
    "        total += top/bottom\n",
    "        bottom-=1\n",
    "        top+=1\n",
    "    print(f\"The total is {total: .2f}\")\n",
    "i_hate_series()\n"
   ]
  },
  {
   "cell_type": "markdown",
   "metadata": {},
   "source": [
    "Q6: Write a function that computes the area of a triangle given its base and height.\n",
    "The formula for an area of a triangle is:\n",
    "AREA = 1/2 * BASE * HEIGHT\n",
    "\n",
    "For example, if the base was 5 and the height was 4, the area would be 10.\n",
    "triangle_area(5, 4)   # should print 10\n"
   ]
  },
  {
   "cell_type": "code",
   "execution_count": 6,
   "metadata": {},
   "outputs": [
    {
     "name": "stdout",
     "output_type": "stream",
     "text": [
      "The area of triangle with base 10, and height 5 is\n",
      "25.0\n",
      "The area of triangle with base 5, and height 4 is\n",
      "10.0\n",
      "The area of triangle with base 3, and height 3 is\n",
      "4.5\n"
     ]
    }
   ],
   "source": [
    "def the_angles_of_tri(base,height):\n",
    "    areatri = .5* base * height\n",
    "    return areatri\n",
    "test= [[10,5],[5,4],[3,3]]\n",
    "\n",
    "for pair in test:\n",
    "    area = the_angles_of_tri(pair[0], pair[1])  # Call the function with the base and height\n",
    "    print(f\"The area of triangle with base {pair[0]}, and height {pair[1]} is\\n{area}\")"
   ]
  }
 ],
 "metadata": {
  "kernelspec": {
   "display_name": "base",
   "language": "python",
   "name": "python3"
  },
  "language_info": {
   "codemirror_mode": {
    "name": "ipython",
    "version": 3
   },
   "file_extension": ".py",
   "mimetype": "text/x-python",
   "name": "python",
   "nbconvert_exporter": "python",
   "pygments_lexer": "ipython3",
   "version": "3.12.4"
  }
 },
 "nbformat": 4,
 "nbformat_minor": 2
}
