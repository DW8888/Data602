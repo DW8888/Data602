{
  "nbformat": 4,
  "nbformat_minor": 0,
  "metadata": {
    "colab": {
      "name": "07_assignment.ipynb",
      "provenance": [],
      "include_colab_link": true
    },
    "kernelspec": {
      "name": "python3",
      "display_name": "Python 3"
    }
  },
  "cells": [
    {
      "cell_type": "markdown",
      "metadata": {
        "id": "view-in-github",
        "colab_type": "text"
      },
      "source": [
        "<a href=\"https://colab.research.google.com/github/DW8888/Data602/blob/main/07_assignment.ipynb\" target=\"_parent\"><img src=\"https://colab.research.google.com/assets/colab-badge.svg\" alt=\"Open In Colab\"/></a>"
      ]
    },
    {
      "cell_type": "markdown",
      "metadata": {
        "id": "rd2QZetSDszc"
      },
      "source": [
        "# **Assignment 7**\n",
        "\n",
        "# **Weeks 8 & 9 - Pandas**\n",
        "* In this homework assignment, you will explore and analyze a public dataset of your choosing. Since this assignment is “open-ended” in nature, you are free to expand upon the requirements below. However, you must meet the minimum requirments as indicated in each section.\n",
        "\n",
        "* You must use Pandas as the **primary tool** to process your data.\n",
        "\n",
        "* The preferred method for this analysis is in a .ipynb file. Feel free to use whichever platform of your choosing.  \n",
        " * https://www.youtube.com/watch?v=inN8seMm7UI (Getting started with Colab).\n",
        "\n",
        "* Your data should need some \"work\", or be considered \"dirty\".  You must show your skills in data cleaning/wrangling.\n",
        "\n",
        "### **Some data examples:**\n",
        "•\thttps://www.data.gov/\n",
        "\n",
        "•\thttps://opendata.cityofnewyork.us/\n",
        "\n",
        "•\thttps://datasetsearch.research.google.com/\n",
        "\n",
        "•\thttps://archive.ics.uci.edu/ml/index.php\n",
        "\n",
        "### **Resources:**\n",
        "\n",
        "•\thttps://pandas.pydata.org/pandas-docs/stable/getting_started/10min.html\n",
        "\n",
        "•\thttps://pandas.pydata.org/pandas-docs/stable/user_guide/visualization.html\n",
        "\n",
        "\n",
        "### **Headings or comments**\n",
        "**You are required to make use of comments, or headings for each section.  You must explain what your code is doing, and the results of running your code.**  Act as if you were giving this assignment to your manager - you must include clear and descriptive information for each section.\n",
        "\n",
        "### **You may work as a group or indivdually on this assignment.**\n"
      ]
    },
    {
      "cell_type": "markdown",
      "metadata": {
        "id": "uW3w6p8rqgxu"
      },
      "source": [
        "# Introduction\n",
        "\n",
        "In this section, please describe the dataset you are using.  Include a link to the source of this data.  You should also provide some explanation on why you choose this dataset."
      ]
    },
    {
      "cell_type": "markdown",
      "metadata": {
        "id": "L0PnfMOFzOXz"
      },
      "source": [
        "I used the Brooklyn 2023-2024 rolling sales data from the NYC Department of Finance (https://www.nyc.gov/site/finance/property/property-rolling-sales-data.page). I chose this dataset because it contains familiar and relatable information with various data types. It was also straightforward yet offered opportunities for manipulation and analysis."
      ]
    },
    {
      "cell_type": "markdown",
      "metadata": {
        "id": "3bp8cdDxDs2t"
      },
      "source": [
        "______________\n",
        "# Data Exploration\n",
        "Import your dataset into your .ipynb, create dataframes, and explore your data.  \n",
        "\n",
        "Include:\n",
        "\n",
        "* Summary statistics means, medians, quartiles,\n",
        "* Missing value information\n",
        "* Any other relevant information about the dataset.  \n",
        "\n"
      ]
    },
    {
      "cell_type": "code",
      "metadata": {
        "id": "1OJmbafkEhhq"
      },
      "source": [
        "import pandas as pd\n",
        "import seaborn as sns\n",
        "import matplotlib.pyplot as plt\n",
        "import numpy as np\n"
      ],
      "execution_count": 3,
      "outputs": []
    },
    {
      "cell_type": "markdown",
      "metadata": {
        "id": "kCSLIafaEGVK"
      },
      "source": [
        "# Data Wrangling\n",
        "Create a subset of your original data and perform the following.  \n",
        "\n",
        "1. Modify multiple column names.\n",
        "\n",
        "2. Look at the structure of your data – are any variables improperly coded? Such as strings or characters? Convert to correct structure if needed.\n",
        "\n",
        "3. Fix missing and invalid values in data.\n",
        "\n",
        "4. Create new columns based on existing columns or calculations.\n",
        "\n",
        "5. Drop column(s) from your dataset.\n",
        "\n",
        "6. Drop a row(s) from your dataset.\n",
        "\n",
        "7. Sort your data based on multiple variables.\n",
        "\n",
        "8. Filter your data based on some condition.\n",
        "\n",
        "9. Convert all the string values to upper or lower cases in one column.\n",
        "\n",
        "10. Check whether numeric values are present in a given column of your dataframe.\n",
        "\n",
        "11. Group your dataset by one column, and get the mean, min, and max values by group.\n",
        "  * Groupby()\n",
        "  * agg() or .apply()\n",
        "\n",
        "12. Group your dataset by two columns and then sort the aggregated results within the groups.\n",
        "\n",
        "**You are free (and should) to add on to these questions.  Please clearly indicate in your assignment your answers to these questions.**"
      ]
    },
    {
      "cell_type": "code",
      "metadata": {
        "id": "b0WTKtqozNn1",
        "colab": {
          "base_uri": "https://localhost:8080/",
          "height": 61
        },
        "outputId": "84e4653f-83ee-4ba3-de78-86e568ea8c73"
      },
      "source": [
        "# Load the file after uploading to Colab\n",
        "from google.colab import files\n",
        "uploaded = files.upload()\n",
        "\n",
        "\n",
        "file_name = \"rollingsales_brooklyn.xlsx\""
      ],
      "execution_count": 1,
      "outputs": [
        {
          "output_type": "display_data",
          "data": {
            "text/plain": [
              "<IPython.core.display.HTML object>"
            ],
            "text/html": [
              "\n",
              "     <input type=\"file\" id=\"files-7e33dbe6-eaba-4819-8f76-6deb579c858f\" name=\"files[]\" multiple disabled\n",
              "        style=\"border:none\" />\n",
              "     <output id=\"result-7e33dbe6-eaba-4819-8f76-6deb579c858f\">\n",
              "      Upload widget is only available when the cell has been executed in the\n",
              "      current browser session. Please rerun this cell to enable.\n",
              "      </output>\n",
              "      <script>// Copyright 2017 Google LLC\n",
              "//\n",
              "// Licensed under the Apache License, Version 2.0 (the \"License\");\n",
              "// you may not use this file except in compliance with the License.\n",
              "// You may obtain a copy of the License at\n",
              "//\n",
              "//      http://www.apache.org/licenses/LICENSE-2.0\n",
              "//\n",
              "// Unless required by applicable law or agreed to in writing, software\n",
              "// distributed under the License is distributed on an \"AS IS\" BASIS,\n",
              "// WITHOUT WARRANTIES OR CONDITIONS OF ANY KIND, either express or implied.\n",
              "// See the License for the specific language governing permissions and\n",
              "// limitations under the License.\n",
              "\n",
              "/**\n",
              " * @fileoverview Helpers for google.colab Python module.\n",
              " */\n",
              "(function(scope) {\n",
              "function span(text, styleAttributes = {}) {\n",
              "  const element = document.createElement('span');\n",
              "  element.textContent = text;\n",
              "  for (const key of Object.keys(styleAttributes)) {\n",
              "    element.style[key] = styleAttributes[key];\n",
              "  }\n",
              "  return element;\n",
              "}\n",
              "\n",
              "// Max number of bytes which will be uploaded at a time.\n",
              "const MAX_PAYLOAD_SIZE = 100 * 1024;\n",
              "\n",
              "function _uploadFiles(inputId, outputId) {\n",
              "  const steps = uploadFilesStep(inputId, outputId);\n",
              "  const outputElement = document.getElementById(outputId);\n",
              "  // Cache steps on the outputElement to make it available for the next call\n",
              "  // to uploadFilesContinue from Python.\n",
              "  outputElement.steps = steps;\n",
              "\n",
              "  return _uploadFilesContinue(outputId);\n",
              "}\n",
              "\n",
              "// This is roughly an async generator (not supported in the browser yet),\n",
              "// where there are multiple asynchronous steps and the Python side is going\n",
              "// to poll for completion of each step.\n",
              "// This uses a Promise to block the python side on completion of each step,\n",
              "// then passes the result of the previous step as the input to the next step.\n",
              "function _uploadFilesContinue(outputId) {\n",
              "  const outputElement = document.getElementById(outputId);\n",
              "  const steps = outputElement.steps;\n",
              "\n",
              "  const next = steps.next(outputElement.lastPromiseValue);\n",
              "  return Promise.resolve(next.value.promise).then((value) => {\n",
              "    // Cache the last promise value to make it available to the next\n",
              "    // step of the generator.\n",
              "    outputElement.lastPromiseValue = value;\n",
              "    return next.value.response;\n",
              "  });\n",
              "}\n",
              "\n",
              "/**\n",
              " * Generator function which is called between each async step of the upload\n",
              " * process.\n",
              " * @param {string} inputId Element ID of the input file picker element.\n",
              " * @param {string} outputId Element ID of the output display.\n",
              " * @return {!Iterable<!Object>} Iterable of next steps.\n",
              " */\n",
              "function* uploadFilesStep(inputId, outputId) {\n",
              "  const inputElement = document.getElementById(inputId);\n",
              "  inputElement.disabled = false;\n",
              "\n",
              "  const outputElement = document.getElementById(outputId);\n",
              "  outputElement.innerHTML = '';\n",
              "\n",
              "  const pickedPromise = new Promise((resolve) => {\n",
              "    inputElement.addEventListener('change', (e) => {\n",
              "      resolve(e.target.files);\n",
              "    });\n",
              "  });\n",
              "\n",
              "  const cancel = document.createElement('button');\n",
              "  inputElement.parentElement.appendChild(cancel);\n",
              "  cancel.textContent = 'Cancel upload';\n",
              "  const cancelPromise = new Promise((resolve) => {\n",
              "    cancel.onclick = () => {\n",
              "      resolve(null);\n",
              "    };\n",
              "  });\n",
              "\n",
              "  // Wait for the user to pick the files.\n",
              "  const files = yield {\n",
              "    promise: Promise.race([pickedPromise, cancelPromise]),\n",
              "    response: {\n",
              "      action: 'starting',\n",
              "    }\n",
              "  };\n",
              "\n",
              "  cancel.remove();\n",
              "\n",
              "  // Disable the input element since further picks are not allowed.\n",
              "  inputElement.disabled = true;\n",
              "\n",
              "  if (!files) {\n",
              "    return {\n",
              "      response: {\n",
              "        action: 'complete',\n",
              "      }\n",
              "    };\n",
              "  }\n",
              "\n",
              "  for (const file of files) {\n",
              "    const li = document.createElement('li');\n",
              "    li.append(span(file.name, {fontWeight: 'bold'}));\n",
              "    li.append(span(\n",
              "        `(${file.type || 'n/a'}) - ${file.size} bytes, ` +\n",
              "        `last modified: ${\n",
              "            file.lastModifiedDate ? file.lastModifiedDate.toLocaleDateString() :\n",
              "                                    'n/a'} - `));\n",
              "    const percent = span('0% done');\n",
              "    li.appendChild(percent);\n",
              "\n",
              "    outputElement.appendChild(li);\n",
              "\n",
              "    const fileDataPromise = new Promise((resolve) => {\n",
              "      const reader = new FileReader();\n",
              "      reader.onload = (e) => {\n",
              "        resolve(e.target.result);\n",
              "      };\n",
              "      reader.readAsArrayBuffer(file);\n",
              "    });\n",
              "    // Wait for the data to be ready.\n",
              "    let fileData = yield {\n",
              "      promise: fileDataPromise,\n",
              "      response: {\n",
              "        action: 'continue',\n",
              "      }\n",
              "    };\n",
              "\n",
              "    // Use a chunked sending to avoid message size limits. See b/62115660.\n",
              "    let position = 0;\n",
              "    do {\n",
              "      const length = Math.min(fileData.byteLength - position, MAX_PAYLOAD_SIZE);\n",
              "      const chunk = new Uint8Array(fileData, position, length);\n",
              "      position += length;\n",
              "\n",
              "      const base64 = btoa(String.fromCharCode.apply(null, chunk));\n",
              "      yield {\n",
              "        response: {\n",
              "          action: 'append',\n",
              "          file: file.name,\n",
              "          data: base64,\n",
              "        },\n",
              "      };\n",
              "\n",
              "      let percentDone = fileData.byteLength === 0 ?\n",
              "          100 :\n",
              "          Math.round((position / fileData.byteLength) * 100);\n",
              "      percent.textContent = `${percentDone}% done`;\n",
              "\n",
              "    } while (position < fileData.byteLength);\n",
              "  }\n",
              "\n",
              "  // All done.\n",
              "  yield {\n",
              "    response: {\n",
              "      action: 'complete',\n",
              "    }\n",
              "  };\n",
              "}\n",
              "\n",
              "scope.google = scope.google || {};\n",
              "scope.google.colab = scope.google.colab || {};\n",
              "scope.google.colab._files = {\n",
              "  _uploadFiles,\n",
              "  _uploadFilesContinue,\n",
              "};\n",
              "})(self);\n",
              "</script> "
            ]
          },
          "metadata": {}
        },
        {
          "output_type": "stream",
          "name": "stdout",
          "text": [
            "Saving rollingsales_brooklyn.xlsx to rollingsales_brooklyn.xlsx\n"
          ]
        }
      ]
    },
    {
      "cell_type": "code",
      "metadata": {
        "id": "4VWWvvynEiQT",
        "colab": {
          "base_uri": "https://localhost:8080/"
        },
        "outputId": "257868e0-e573-44df-bca6-9c601f847f4e"
      },
      "source": [
        "data = pd.ExcelFile(file_name)\n",
        "\n",
        "# Check the sheet names\n",
        "print(data.sheet_names)\n",
        "\n",
        "# Load the specific sheet \"Brooklyn\"\n",
        "brooklyn_data = data.parse('Brooklyn', skiprows=4)\n",
        "\n",
        "# Display the first few rows of the dataset\n",
        "print(brooklyn_data.head())"
      ],
      "execution_count": 4,
      "outputs": [
        {
          "output_type": "stream",
          "name": "stdout",
          "text": [
            "['Brooklyn']\n",
            "   BOROUGH NEIGHBORHOOD  BUILDING CLASS CATEGORY TAX CLASS AT PRESENT  BLOCK  \\\n",
            "0        3   BATH BEACH  01 ONE FAMILY DWELLINGS                    1   6361   \n",
            "1        3   BATH BEACH  01 ONE FAMILY DWELLINGS                    1   6361   \n",
            "2        3   BATH BEACH  01 ONE FAMILY DWELLINGS                    1   6373   \n",
            "3        3   BATH BEACH  01 ONE FAMILY DWELLINGS                    1   6373   \n",
            "4        3   BATH BEACH  01 ONE FAMILY DWELLINGS                    1   6376   \n",
            "\n",
            "   LOT  EASEMENT BUILDING CLASS AT PRESENT             ADDRESS  \\\n",
            "0   15       NaN                        A5  59 BAY 10TH STREET   \n",
            "1   22       NaN                        A5  43 BAY 10TH STREET   \n",
            "2   54       NaN                        S1    1948 86TH STREET   \n",
            "3   77       NaN                        A9  60 BAY 23RD STREET   \n",
            "4   13       NaN                        A9  69 BAY 25TH STREET   \n",
            "\n",
            "  APARTMENT NUMBER  ...  RESIDENTIAL UNITS  COMMERCIAL UNITS  TOTAL UNITS  \\\n",
            "0              NaN  ...                1.0               0.0          1.0   \n",
            "1              NaN  ...                1.0               0.0          1.0   \n",
            "2              NaN  ...                1.0               1.0          2.0   \n",
            "3              NaN  ...                1.0               0.0          1.0   \n",
            "4              NaN  ...                1.0               0.0          1.0   \n",
            "\n",
            "   LAND SQUARE FEET  GROSS SQUARE FEET  YEAR BUILT  TAX CLASS AT TIME OF SALE  \\\n",
            "0            1933.0             1660.0      1930.0                          1   \n",
            "1            2900.0             1660.0      1930.0                          1   \n",
            "2            1917.0             2870.0      1931.0                          1   \n",
            "3            1933.0             2372.0      1925.0                          1   \n",
            "4            2868.0             2330.0      1915.0                          1   \n",
            "\n",
            "   BUILDING CLASS AT TIME OF SALE SALE PRICE  SALE DATE  \n",
            "0                              A5    1185000 2024-08-08  \n",
            "1                              A5    1275000 2023-12-07  \n",
            "2                              S1          0 2023-11-28  \n",
            "3                              A9     925000 2023-12-04  \n",
            "4                              A9    1360000 2024-05-06  \n",
            "\n",
            "[5 rows x 21 columns]\n"
          ]
        }
      ]
    },
    {
      "source": [
        "\n",
        "brooklyn_data_cleaned = brooklyn_data.iloc[:, :6].copy()\n",
        "\n",
        "# Rename\n",
        "brooklyn_data_cleaned.columns = ['NEIGHBORHOOD', 'TYPE', 'BLOCK', 'TAX CLASS', 'SALE PRICE', 'SALE DATE']\n",
        "\n",
        "# Convert SALE PRICE to numeric\n",
        "brooklyn_data_cleaned['SALE PRICE', 'BLOCK'] = pd.to_numeric(brooklyn_data_cleaned['SALE PRICE'], errors='coerce')\n",
        "\n",
        "# Convert SALE DATE to datetime and extract Month-Year\n",
        "brooklyn_data_cleaned['SALE DATE'] = pd.to_datetime(brooklyn_data_cleaned['SALE DATE'], errors='coerce')\n",
        "brooklyn_data_cleaned['MONTH-YEAR'] = brooklyn_data_cleaned['SALE DATE'].dt.to_period('M')\n",
        "\n",
        "# Drop rows with missing or invalid data\n",
        "brooklyn_data_cleaned.dropna(subset=['SALE PRICE', 'SALE DATE'], inplace=True)\n",
        "\n",
        "# Display the cleaned data\n",
        "print(brooklyn_data_cleaned.head())"
      ],
      "cell_type": "code",
      "metadata": {
        "colab": {
          "base_uri": "https://localhost:8080/"
        },
        "id": "pE4est_N7umf",
        "outputId": "7af3c873-7bc0-4b86-ecdd-9fc622e7f0ad"
      },
      "execution_count": 25,
      "outputs": [
        {
          "output_type": "stream",
          "name": "stdout",
          "text": [
            "  NEIGHBORHOOD                     TYPE  BLOCK TAX CLASS  SALE PRICE  \\\n",
            "0   BATH BEACH  01 ONE FAMILY DWELLINGS   6361         1     1185000   \n",
            "1   BATH BEACH  01 ONE FAMILY DWELLINGS   6361         1     1275000   \n",
            "2   BATH BEACH  01 ONE FAMILY DWELLINGS   6373         1           0   \n",
            "3   BATH BEACH  01 ONE FAMILY DWELLINGS   6373         1      925000   \n",
            "4   BATH BEACH  01 ONE FAMILY DWELLINGS   6376         1     1360000   \n",
            "\n",
            "   SALE DATE  (SALE PRICE, BLOCK) MONTH-YEAR  \n",
            "0 2024-08-08              1185000    2024-08  \n",
            "1 2023-12-07              1275000    2023-12  \n",
            "2 2023-11-28                    0    2023-11  \n",
            "3 2023-12-04               925000    2023-12  \n",
            "4 2024-05-06              1360000    2024-05  \n"
          ]
        }
      ]
    },
    {
      "cell_type": "code",
      "source": [
        "brooklyn_data_cleaned = brooklyn_data_cleaned.drop(columns=[\"SALE DATE\"])\n",
        "print(brooklyn_data_cleaned.head())"
      ],
      "metadata": {
        "colab": {
          "base_uri": "https://localhost:8080/"
        },
        "id": "_1Sn0te88KMW",
        "outputId": "b7a045ae-48a9-48a9-f210-b280c56f5cbe"
      },
      "execution_count": 17,
      "outputs": [
        {
          "output_type": "stream",
          "name": "stdout",
          "text": [
            "  NEIGHBORHOOD                     TYPE  BLOCK TAX CLASS  SALE PRICE  \\\n",
            "0   BATH BEACH  01 ONE FAMILY DWELLINGS   6361         1     1185000   \n",
            "1   BATH BEACH  01 ONE FAMILY DWELLINGS   6361         1     1275000   \n",
            "2   BATH BEACH  01 ONE FAMILY DWELLINGS   6373         1           0   \n",
            "3   BATH BEACH  01 ONE FAMILY DWELLINGS   6373         1      925000   \n",
            "4   BATH BEACH  01 ONE FAMILY DWELLINGS   6376         1     1360000   \n",
            "\n",
            "  MONTH-YEAR  \n",
            "0    2024-08  \n",
            "1    2023-12  \n",
            "2    2023-11  \n",
            "3    2023-12  \n",
            "4    2024-05  \n"
          ]
        }
      ]
    },
    {
      "cell_type": "code",
      "source": [
        "neighborhood_counts = brooklyn_data_cleaned.groupby('NEIGHBORHOOD')['NEIGHBORHOOD'].count().reset_index(name='COUNT')\n",
        "\n",
        "# Sort by count in descending order\n",
        "neighborhood_counts = neighborhood_counts.sort_values(by=['COUNT'], ascending=False)\n",
        "\n",
        "# Display the results\n",
        "print(neighborhood_counts)"
      ],
      "metadata": {
        "colab": {
          "base_uri": "https://localhost:8080/"
        },
        "id": "hwGFL46K9W3c",
        "outputId": "0501302e-baf7-4826-b3d8-3ca3ca1e5c8f"
      },
      "execution_count": 18,
      "outputs": [
        {
          "output_type": "stream",
          "name": "stdout",
          "text": [
            "                NEIGHBORHOOD  COUNT\n",
            "6               BOROUGH PARK   1202\n",
            "2         BEDFORD STUYVESANT   1106\n",
            "1                  BAY RIDGE    827\n",
            "26             FLATBUSH-EAST    766\n",
            "24             EAST NEW YORK    763\n",
            "51            SHEEPSHEAD BAY    717\n",
            "12                  CANARSIE    673\n",
            "33                 GRAVESEND    652\n",
            "18             CROWN HEIGHTS    627\n",
            "46                PARK SLOPE    613\n",
            "34                GREENPOINT    593\n",
            "43       OCEAN PARKWAY-NORTH    569\n",
            "53               SUNSET PARK    565\n",
            "11                  BUSHWICK    532\n",
            "3                BENSONHURST    526\n",
            "25          FLATBUSH-CENTRAL    507\n",
            "39                   MIDWOOD    426\n",
            "55         WILLIAMSBURG-EAST    422\n",
            "36                   MADISON    405\n",
            "56        WILLIAMSBURG-NORTH    395\n",
            "8           BROOKLYN HEIGHTS    385\n",
            "7             BRIGHTON BEACH    385\n",
            "28            FLATBUSH-NORTH    368\n",
            "38               MARINE PARK    345\n",
            "44       OCEAN PARKWAY-SOUTH    321\n",
            "42                OCEAN HILL    320\n",
            "14              CLINTON HILL    314\n",
            "23             DYKER HEIGHTS    310\n",
            "21      DOWNTOWN-FULTON MALL    296\n",
            "0                 BATH BEACH    289\n",
            "19             CYPRESS HILLS    285\n",
            "17              CONEY ISLAND    269\n",
            "48          PROSPECT HEIGHTS    249\n",
            "45            OLD MILL BASIN    237\n",
            "54      WILLIAMSBURG-CENTRAL    231\n",
            "35                KENSINGTON    230\n",
            "9                BROWNSVILLE    229\n",
            "57        WILLIAMSBURG-SOUTH    218\n",
            "13           CARROLL GARDENS    209\n",
            "29                 FLATLANDS    205\n",
            "30               FORT GREENE    190\n",
            "4               BERGEN BEACH    185\n",
            "47          PARK SLOPE SOUTH    184\n",
            "27  FLATBUSH-LEFFERTS GARDEN    173\n",
            "20     DOWNTOWN-FULTON FERRY    168\n",
            "58           WINDSOR TERRACE    167\n",
            "5                BOERUM HILL    165\n",
            "32                   GOWANUS    134\n",
            "15               COBBLE HILL    120\n",
            "31           GERRITSEN BEACH    118\n",
            "59           WYCKOFF HEIGHTS    114\n",
            "37           MANHATTAN BEACH    114\n",
            "40                MILL BASIN    110\n",
            "22        DOWNTOWN-METROTECH     96\n",
            "49                  RED HOOK     69\n",
            "16          COBBLE HILL-WEST     69\n",
            "50                   SEAGATE     51\n",
            "10             BUSH TERMINAL     51\n",
            "41                 NAVY YARD     19\n",
            "52              SPRING CREEK     11\n"
          ]
        }
      ]
    },
    {
      "cell_type": "code",
      "source": [
        "# Filter for Park Slope sales\n",
        "park_slope_data = brooklyn_data_cleaned[brooklyn_data_cleaned['NEIGHBORHOOD'] == 'PARK SLOPE']\n",
        "\n",
        "# Group by type and calculate mean sale price\n",
        "type_mean_price = park_slope_data.groupby('TYPE')['SALE PRICE'].mean().reset_index(name='MEAN SALE PRICE')\n",
        "\n",
        "# Display the results\n",
        "print(type_mean_price)\n",
        "print(\"\\nmin: \",type_mean_price.min(),\n",
        "      \"\\nmax:\", type_mean_price.max())"
      ],
      "metadata": {
        "colab": {
          "base_uri": "https://localhost:8080/"
        },
        "id": "DaPKNQsc9t5M",
        "outputId": "cd288d83-3527-4be8-81d0-e1683cecc150"
      },
      "execution_count": 22,
      "outputs": [
        {
          "output_type": "stream",
          "name": "stdout",
          "text": [
            "                                 TYPE  MEAN SALE PRICE\n",
            "0             01 ONE FAMILY DWELLINGS     3.393859e+06\n",
            "1             02 TWO FAMILY DWELLINGS     1.567522e+06\n",
            "2           03 THREE FAMILY DWELLINGS     1.459301e+06\n",
            "3               04 TAX CLASS 1 CONDOS     1.396671e+06\n",
            "4          05 TAX CLASS 1 VACANT LAND     0.000000e+00\n",
            "5      07 RENTALS - WALKUP APARTMENTS     2.722754e+06\n",
            "6    08 RENTALS - ELEVATOR APARTMENTS     0.000000e+00\n",
            "7        09 COOPS - WALKUP APARTMENTS     1.037075e+06\n",
            "8      10 COOPS - ELEVATOR APARTMENTS     9.184542e+05\n",
            "9       12 CONDOS - WALKUP APARTMENTS     1.306483e+06\n",
            "10    13 CONDOS - ELEVATOR APARTMENTS     1.556672e+06\n",
            "11             14 RENTALS - 4-10 UNIT     1.946364e+06\n",
            "12  15 CONDOS - 2-10 UNIT RESIDENTIAL     1.641522e+06\n",
            "13                     17 CONDO COOPS     7.750507e+05\n",
            "14                 22 STORE BUILDINGS     7.000000e+06\n",
            "15          31 COMMERCIAL VACANT LAND     3.055556e+05\n",
            "16          33 EDUCATIONAL FACILITIES     1.350000e+07\n",
            "17                   44 CONDO PARKING     3.580000e+05\n",
            "18      47 CONDO NON-BUSINESS STORAGE     1.980352e+06\n",
            "\n",
            "min:  TYPE               01 ONE FAMILY DWELLINGS\n",
            "MEAN SALE PRICE                        0.0\n",
            "dtype: object \n",
            "max: TYPE               47 CONDO NON-BUSINESS STORAGE\n",
            "MEAN SALE PRICE                       13500000.0\n",
            "dtype: object\n"
          ]
        }
      ]
    },
    {
      "cell_type": "code",
      "source": [
        "# Convert 'NEIGHBORHOOD' to lowercase\n",
        "brooklyn_data_cleaned['NEIGHBORHOOD'] = brooklyn_data_cleaned['NEIGHBORHOOD'].str.lower()\n",
        "\n",
        "# Display the updated DataFrame\n",
        "print(brooklyn_data_cleaned.head())"
      ],
      "metadata": {
        "colab": {
          "base_uri": "https://localhost:8080/"
        },
        "id": "eBDpgPSU9acp",
        "outputId": "4d932012-1580-448b-ce1f-3f286ebb2815"
      },
      "execution_count": 26,
      "outputs": [
        {
          "output_type": "stream",
          "name": "stdout",
          "text": [
            "  NEIGHBORHOOD                     TYPE  BLOCK TAX CLASS  SALE PRICE  \\\n",
            "0   bath beach  01 ONE FAMILY DWELLINGS   6361         1     1185000   \n",
            "1   bath beach  01 ONE FAMILY DWELLINGS   6361         1     1275000   \n",
            "2   bath beach  01 ONE FAMILY DWELLINGS   6373         1           0   \n",
            "3   bath beach  01 ONE FAMILY DWELLINGS   6373         1      925000   \n",
            "4   bath beach  01 ONE FAMILY DWELLINGS   6376         1     1360000   \n",
            "\n",
            "   SALE DATE  (SALE PRICE, BLOCK) MONTH-YEAR  \n",
            "0 2024-08-08              1185000    2024-08  \n",
            "1 2023-12-07              1275000    2023-12  \n",
            "2 2023-11-28                    0    2023-11  \n",
            "3 2023-12-04               925000    2023-12  \n",
            "4 2024-05-06              1360000    2024-05  \n"
          ]
        }
      ]
    },
    {
      "cell_type": "code",
      "source": [
        "# Back to upper\n",
        "brooklyn_data_cleaned['NEIGHBORHOOD'] = brooklyn_data_cleaned['NEIGHBORHOOD'].str.upper()\n",
        "\n",
        "# Display the updated DataFrame\n",
        "print(brooklyn_data_cleaned.head())"
      ],
      "metadata": {
        "colab": {
          "base_uri": "https://localhost:8080/"
        },
        "id": "3BzH_KuTAFbB",
        "outputId": "0f388267-a250-44d0-b611-b29cbe2249e2"
      },
      "execution_count": 27,
      "outputs": [
        {
          "output_type": "stream",
          "name": "stdout",
          "text": [
            "  NEIGHBORHOOD                     TYPE  BLOCK TAX CLASS  SALE PRICE  \\\n",
            "0   BATH BEACH  01 ONE FAMILY DWELLINGS   6361         1     1185000   \n",
            "1   BATH BEACH  01 ONE FAMILY DWELLINGS   6361         1     1275000   \n",
            "2   BATH BEACH  01 ONE FAMILY DWELLINGS   6373         1           0   \n",
            "3   BATH BEACH  01 ONE FAMILY DWELLINGS   6373         1      925000   \n",
            "4   BATH BEACH  01 ONE FAMILY DWELLINGS   6376         1     1360000   \n",
            "\n",
            "   SALE DATE  (SALE PRICE, BLOCK) MONTH-YEAR  \n",
            "0 2024-08-08              1185000    2024-08  \n",
            "1 2023-12-07              1275000    2023-12  \n",
            "2 2023-11-28                    0    2023-11  \n",
            "3 2023-12-04               925000    2023-12  \n",
            "4 2024-05-06              1360000    2024-05  \n"
          ]
        }
      ]
    },
    {
      "cell_type": "markdown",
      "source": [
        "Grouping two cols"
      ],
      "metadata": {
        "id": "ukKCMxZmA_U5"
      }
    },
    {
      "cell_type": "code",
      "source": [
        "grouped_data = brooklyn_data_cleaned.groupby(['NEIGHBORHOOD', 'BLOCK'])['SALE PRICE'].mean().reset_index()\n",
        "sorted_data = grouped_data.sort_values(by=['NEIGHBORHOOD', 'BLOCK'], ascending=[True, True])\n",
        "\n",
        "# Display the results\n",
        "print(sorted_data.head())\n",
        "print(sorted_data.tail())"
      ],
      "metadata": {
        "colab": {
          "base_uri": "https://localhost:8080/"
        },
        "id": "j4t90EdDAlht",
        "outputId": "acff337d-5147-498a-a07a-b0e7ff5b5c3e"
      },
      "execution_count": 31,
      "outputs": [
        {
          "output_type": "stream",
          "name": "stdout",
          "text": [
            "  NEIGHBORHOOD  BLOCK    SALE PRICE\n",
            "0   BATH BEACH   6357  4.141667e+05\n",
            "1   BATH BEACH   6358  9.533333e+05\n",
            "2   BATH BEACH   6359  6.356400e+05\n",
            "3   BATH BEACH   6360  1.500000e+05\n",
            "4   BATH BEACH   6361  1.128333e+06\n",
            "         NEIGHBORHOOD  BLOCK     SALE PRICE\n",
            "5426  WYCKOFF HEIGHTS   3363   50000.000000\n",
            "5427  WYCKOFF HEIGHTS   3379  433333.333333\n",
            "5428  WYCKOFF HEIGHTS   3386       0.000000\n",
            "5429  WYCKOFF HEIGHTS   3393  980705.000000\n",
            "5430  WYCKOFF HEIGHTS   3400  650000.000000\n"
          ]
        }
      ]
    },
    {
      "cell_type": "markdown",
      "source": [
        "# Conclusions  \n",
        "\n",
        "After exploring your dataset, provide a short summary of what you noticed from this dataset.  What would you explore further with more time?"
      ],
      "metadata": {
        "id": "tujjevRpXEen"
      }
    },
    {
      "cell_type": "markdown",
      "source": [
        "This dataset contains a wealth of information, particularly about various property types. I observed significant price variations between neighborhoods, an area I would explore further given more time. Additionally, I'd like to visualize the sales data geographically by plotting them on a map. To do this I would need to augment the dataset with some longitude and lattitude cols pertaining to the block numbers."
      ],
      "metadata": {
        "id": "Ksc6jm8zDiF0"
      }
    }
  ]
}