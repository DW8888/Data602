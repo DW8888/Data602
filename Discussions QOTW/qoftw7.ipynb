{
 "cells": [
  {
   "cell_type": "markdown",
   "metadata": {},
   "source": [
    "1. What is pandas and why use it?\n",
    "\n",
    "Pandas is a powerful Python library specifically designed for data manipulation and analysis in a tabular format, similar to data frames in R or spreadsheets in Excel. It provides efficient, flexible, and easy-to-use data structures that enable a wide range of data operations, including data cleaning, filtering, aggregation, and transformation.\n"
   ]
  },
  {
   "cell_type": "markdown",
   "metadata": {},
   "source": [
    "2. Give an example of how to import a csv file using pandas\n"
   ]
  },
  {
   "cell_type": "code",
   "execution_count": 8,
   "metadata": {},
   "outputs": [
    {
     "name": "stdout",
     "output_type": "stream",
     "text": [
      "      castle_names                Lord  total_population  staff  guards\n",
      "0       Winterfell        Eddard Stark              5000    200     300\n",
      "1    Casterly Rock     Tywin Lannister              7000    300     500\n",
      "2      Storm's End   Stannis Baratheon              4500    150     350\n",
      "3       Highgarden         Mace Tyrell              6000    250     400\n",
      "4      Dragonstone  Daenerys Targaryen              5500    180     320\n",
      "5        The Eyrie          Lysa Arryn              3000    120     200\n",
      "6         Riverrun        Edmure Tully              4000    180     250\n",
      "7        The Twins         Walder Frey              4500    210     280\n",
      "8         Sunspear       Doran Martell              3500    140     170\n",
      "9             Pyke       Balon Greyjoy              2500    100     120\n",
      "10       Harrenhal       Petyr Baelish              1500     70      90\n",
      "11    White Harbor      Wyman Manderly              3200    130     140\n",
      "12     Moat Cailin         House Stark              2000     90     100\n",
      "13    Castle Black       Night's Watch               800     50      70\n",
      "14    Shadow Tower       Night's Watch               600     40      60\n",
      "15  Deepwood Motte        House Glover              1000     80     100\n",
      "16     Last Hearth         House Umber              1200     75      90\n",
      "17       Dreadfort        House Bolton              2200    110     150\n",
      "18         Oldtown           Hightower              4500    190     220\n",
      "19       Horn Hill       Randyll Tarly              3600    150     180\n",
      "20     Goldengrove         House Rowan              3400    160     170\n"
     ]
    }
   ],
   "source": [
    "import pandas as pd\n",
    "great_castles = pd.read_csv(\"great_castles.csv\") \n",
    "\n",
    "print(great_castles)"
   ]
  },
  {
   "cell_type": "markdown",
   "metadata": {},
   "source": [
    "3. Show how to view the first 10 rows of a dataset using pandas\n"
   ]
  },
  {
   "cell_type": "code",
   "execution_count": 9,
   "metadata": {},
   "outputs": [
    {
     "name": "stdout",
     "output_type": "stream",
     "text": [
      "    castle_names                Lord  total_population  staff  guards\n",
      "0     Winterfell        Eddard Stark              5000    200     300\n",
      "1  Casterly Rock     Tywin Lannister              7000    300     500\n",
      "2    Storm's End   Stannis Baratheon              4500    150     350\n",
      "3     Highgarden         Mace Tyrell              6000    250     400\n",
      "4    Dragonstone  Daenerys Targaryen              5500    180     320\n",
      "5      The Eyrie          Lysa Arryn              3000    120     200\n",
      "6       Riverrun        Edmure Tully              4000    180     250\n",
      "7      The Twins         Walder Frey              4500    210     280\n",
      "8       Sunspear       Doran Martell              3500    140     170\n",
      "9           Pyke       Balon Greyjoy              2500    100     120\n"
     ]
    }
   ],
   "source": [
    "print(great_castles.head(10))"
   ]
  },
  {
   "cell_type": "markdown",
   "metadata": {},
   "source": [
    "4. Write a Pandas program to compare the elements of the two Pandas Series.\n",
    "Sample Series: [2, 4, 6, 8, 10], [1, 3, 5, 7, 10]\n"
   ]
  },
  {
   "cell_type": "code",
   "execution_count": 13,
   "metadata": {},
   "outputs": [
    {
     "name": "stdout",
     "output_type": "stream",
     "text": [
      "Common elements: {10}\n",
      "In series1 but not in series2: {8, 2, 4, 6}\n",
      "In series2 but not in series1: {1, 3, 5, 7}\n",
      "All unique elements: {1, 2, 3, 4, 5, 6, 7, 8, 10}\n"
     ]
    }
   ],
   "source": [
    "series1 = pd.Series([2, 4, 6, 8, 10])\n",
    "series2 = pd.Series([1, 3, 5, 7, 10])\n",
    "\n",
    "\n",
    "\n",
    "set1 = set(series1)\n",
    "set2 = set(series2)\n",
    "\n",
    "# (intersection)\n",
    "print(\"Common elements:\", set1 & set2)\n",
    "\n",
    "#  (difference) 1\n",
    "print(\"In series1 but not in series2:\", set1 - set2)\n",
    "\n",
    "#  (difference) 2\n",
    "print(\"In series2 but not in series1:\", set2 - set1)\n",
    "\n",
    "#  (union)\n",
    "print(\"All unique elements:\", set1 | set2)"
   ]
  },
  {
   "cell_type": "markdown",
   "metadata": {},
   "source": [
    "5. Change the first character of each word to upper case in each word of df1\n"
   ]
  },
  {
   "cell_type": "code",
   "execution_count": 12,
   "metadata": {},
   "outputs": [
    {
     "name": "stdout",
     "output_type": "stream",
     "text": [
      "0     Hello\n",
      "1        To\n",
      "2      Cuny\n",
      "3    Class?\n",
      "dtype: object\n"
     ]
    }
   ],
   "source": [
    "df1 = pd.Series(['hello', 'to', 'cuny', 'class?'])\n",
    "df1 = df1.str.capitalize()\n",
    "print(df1)\n"
   ]
  }
 ],
 "metadata": {
  "kernelspec": {
   "display_name": "base",
   "language": "python",
   "name": "python3"
  },
  "language_info": {
   "codemirror_mode": {
    "name": "ipython",
    "version": 3
   },
   "file_extension": ".py",
   "mimetype": "text/x-python",
   "name": "python",
   "nbconvert_exporter": "python",
   "pygments_lexer": "ipython3",
   "version": "3.12.4"
  }
 },
 "nbformat": 4,
 "nbformat_minor": 2
}
