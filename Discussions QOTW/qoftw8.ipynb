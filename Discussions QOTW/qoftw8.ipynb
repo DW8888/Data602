{
 "cells": [
  {
   "cell_type": "markdown",
   "metadata": {},
   "source": [
    "1. How would you delete:\n",
    "An index from your dataframe\n",
    "A column from your dataframe\n",
    "A row from your dataframe\n"
   ]
  },
  {
   "cell_type": "code",
   "execution_count": 12,
   "metadata": {},
   "outputs": [
    {
     "name": "stdout",
     "output_type": "stream",
     "text": [
      "    castle_names               Lord  total_population  staff  guards\n",
      "0     Winterfell       Eddard Stark              5000    200     300\n",
      "1  Casterly Rock    Tywin Lannister              7000    300     500\n",
      "2    Storm's End  Stannis Baratheon              4500    150     350\n",
      "\n",
      "     castle_names  total_population  staff  guards\n",
      "1  Casterly Rock              7000    300     500\n",
      "2    Storm's End              4500    150     350\n",
      "3     Highgarden              6000    250     400\n"
     ]
    }
   ],
   "source": [
    "import pandas as pd\n",
    "great_castles = pd.read_csv(\"great_castles.csv\")\n",
    "\n",
    "\n",
    "# df did not have an index to begin with\n",
    "\n",
    "great_castles_altered= great_castles.reset_index(drop=True)\n",
    "\n",
    "print(great_castles_altered.head(3))\n",
    "\n",
    "great_castles_altered = great_castles.drop(columns=[\"Lord\"]).drop(index=0)\n",
    "\n",
    "\n",
    "print(\"\\n\",great_castles_altered.head(3))\n"
   ]
  },
  {
   "cell_type": "markdown",
   "metadata": {},
   "source": [
    "2. How do you iterate over a pandas dataframe?\n"
   ]
  },
  {
   "cell_type": "code",
   "execution_count": 14,
   "metadata": {},
   "outputs": [
    {
     "name": "stdout",
     "output_type": "stream",
     "text": [
      "Row 0: Castle Name - Winterfell, Lord - Eddard Stark\n",
      "Row 1: Castle Name - Casterly Rock, Lord - Tywin Lannister\n",
      "Row 2: Castle Name - Storm's End, Lord - Stannis Baratheon\n",
      "Row 3: Castle Name - Highgarden, Lord - Mace Tyrell\n",
      "Row 4: Castle Name - Dragonstone, Lord - Daenerys Targaryen\n"
     ]
    }
   ],
   "source": [
    "for index, row in great_castles[:5].iterrows():\n",
    "    print(f\"Row {index}: Castle Name - {row['castle_names']}, Lord - {row['Lord']}\")"
   ]
  },
  {
   "cell_type": "markdown",
   "metadata": {},
   "source": [
    "3. How would you convert a string to a date?\n"
   ]
  },
  {
   "cell_type": "code",
   "execution_count": 15,
   "metadata": {},
   "outputs": [
    {
     "name": "stdout",
     "output_type": "stream",
     "text": [
      "0   1960-08-28\n",
      "1   1965-01-28\n",
      "dtype: datetime64[ns]\n"
     ]
    }
   ],
   "source": [
    "parents_bds = pd.Series([\"1960-08-28\", \"1965-01-28\"])\n",
    "parents_bds = pd.to_datetime(parents_bds)\n",
    "print(parents_bds)"
   ]
  },
  {
   "cell_type": "markdown",
   "metadata": {},
   "source": [
    "4. What is data aggregation?  Give an example in Python. \n",
    "Aggregation means summarizing data or doing calculations to make big datasets easier to understand. It's often used to get quick insights, like totals, averages, counts, or other numbers, especially after grouping data by categories."
   ]
  },
  {
   "cell_type": "code",
   "execution_count": null,
   "metadata": {},
   "outputs": [
    {
     "name": "stdout",
     "output_type": "stream",
     "text": [
      "guards              4260.00000\n",
      "total_population    3309.52381\n",
      "staff                 40.00000\n",
      "dtype: float64\n"
     ]
    }
   ],
   "source": [
    "aggregate_stats = great_castles.agg({\n",
    "    \"guards\": \"sum\",\n",
    "    \"total_population\":\"mean\",\n",
    "    \"staff\": \"min\"\n",
    "},stat)\n",
    "print(aggregate_stats)"
   ]
  },
  {
   "cell_type": "markdown",
   "metadata": {},
   "source": [
    "5. What is GroupBy in Pandas (groupby()). Give an example in Python.\n",
    "\n"
   ]
  },
  {
   "cell_type": "code",
   "execution_count": 28,
   "metadata": {},
   "outputs": [
    {
     "name": "stdout",
     "output_type": "stream",
     "text": [
      "      shape  color  area  perimeter\n",
      "0    Circle    Red  28.3       18.8\n",
      "1    Square   Blue  25.0       20.0\n",
      "2  Triangle    Red  15.5       18.0\n",
      "3    Circle  Green  31.4       19.7\n",
      "4    Square    Red  26.5       21.0\n",
      "5  Triangle   Blue  16.2       18.5\n",
      "6    Circle  Green  29.1       19.1\n",
      "7    Square  Green  27.3       20.5\n",
      "8  Triangle   Blue  15.8       18.2\n"
     ]
    }
   ],
   "source": [
    "shapes_data = {\n",
    "    \"shape\": [\"Circle\", \"Square\", \"Triangle\", \"Circle\", \"Square\", \"Triangle\", \"Circle\", \"Square\", \"Triangle\"],\n",
    "    \"color\": [\"Red\", \"Blue\", \"Red\", \"Green\", \"Red\", \"Blue\", \"Green\", \"Green\", \"Blue\"],\n",
    "    \"area\": [28.3, 25.0, 15.5, 31.4, 26.5, 16.2, 29.1, 27.3, 15.8],\n",
    "    \"perimeter\": [18.8, 20.0, 18.0, 19.7, 21.0, 18.5, 19.1, 20.5, 18.2]\n",
    "}\n",
    "shapes_df = pd.DataFrame(shapes_data)\n",
    "print(shapes_df)"
   ]
  },
  {
   "cell_type": "code",
   "execution_count": 27,
   "metadata": {},
   "outputs": [
    {
     "name": "stdout",
     "output_type": "stream",
     "text": [
      "      shape  color  area  perimeter\n",
      "0  Triangle   Blue  15.8       18.2\n",
      "1  Triangle   Blue  16.2       18.5\n",
      "2    Square   Blue  25.0       20.0\n",
      "3    Square  Green  27.3       20.5\n",
      "4    Circle  Green  29.1       19.1\n",
      "5    Circle  Green  31.4       19.7\n",
      "6  Triangle    Red  15.5       18.0\n",
      "7    Square    Red  26.5       21.0\n",
      "8    Circle    Red  28.3       18.8\n"
     ]
    }
   ],
   "source": [
    "sorted_shapes_df = shapes_df.sort_values(by=[\"color\", \"area\"]).reset_index(drop=True)\n",
    "print(sorted_shapes_df)"
   ]
  }
 ],
 "metadata": {
  "kernelspec": {
   "display_name": "base",
   "language": "python",
   "name": "python3"
  },
  "language_info": {
   "codemirror_mode": {
    "name": "ipython",
    "version": 3
   },
   "file_extension": ".py",
   "mimetype": "text/x-python",
   "name": "python",
   "nbconvert_exporter": "python",
   "pygments_lexer": "ipython3",
   "version": "3.12.4"
  }
 },
 "nbformat": 4,
 "nbformat_minor": 2
}
