{
 "cells": [
  {
   "cell_type": "markdown",
   "metadata": {},
   "source": [
    "1. Create a list called animals that contain the following: cat, dog, manta ray, horse, crouching tiger\n",
    "2. Repeat question 1 and loop through and print each item in the animal list by iterating through an index number and using range(). Set a variable len_animals to the length of the animal list."
   ]
  },
  {
   "cell_type": "code",
   "execution_count": 1,
   "metadata": {},
   "outputs": [
    {
     "name": "stdout",
     "output_type": "stream",
     "text": [
      "['cat', 'dog', 'manta ray', 'horse', 'crouching tiger'] 5\n",
      "cat\n",
      "dog\n",
      "manta ray\n",
      "horse\n",
      "crouching tiger\n"
     ]
    }
   ],
   "source": [
    "animals =[\"cat\",\"dog\",\"manta ray\", \"horse\",\"crouching tiger\"]\n",
    "len_animals=len(animals)\n",
    "print(animals, len_animals)\n",
    "for index in range(len_animals):\n",
    "    print(animals[index])"
   ]
  },
  {
   "cell_type": "markdown",
   "metadata": {},
   "source": [
    "3. Programmatically reorganize the countdown list below in descending order and return the value of the 5th element in the sorted countdown list.\n",
    "    The 5th element will be stored in the variable the_fifth_element, which currently below has a dummy value of -999.\n",
    "    Remember, the index number of the 5th element is not 5\n",
    "countdown = [9, 8, 7, 5, 4, 2, 1, 6, 10, 3, 0, -5]\n",
    "the_fifth_element = -999"
   ]
  },
  {
   "cell_type": "code",
   "execution_count": 2,
   "metadata": {},
   "outputs": [
    {
     "name": "stdout",
     "output_type": "stream",
     "text": [
      "[10, 9, 8, 7, 6, 5, 4, 3, 2, 1, 0, -5]\n",
      "6\n"
     ]
    }
   ],
   "source": [
    "countdown = [9, 8, 7, 5, 4, 2, 1, 6, 10, 3, 0, -5]\n",
    "\n",
    "countdown = sorted(countdown,reverse=True)\n",
    "print(countdown)\n",
    "the_fifth_element = countdown[4]\n",
    "print(the_fifth_element)"
   ]
  },
  {
   "cell_type": "code",
   "execution_count": 9,
   "metadata": {},
   "outputs": [
    {
     "name": "stdout",
     "output_type": "stream",
     "text": [
      "original:   [9, 8, 7, 5, 4, 2, 1, 6, 10, 3, 0, -5]\n",
      "pass   1:   [9, 8, 7, 5, 4, 2, 6, 1, 10, 3, 0, -5]\n",
      "pass   2:   [9, 8, 7, 5, 4, 2, 6, 10, 1, 3, 0, -5]\n",
      "pass   3:   [9, 8, 7, 5, 4, 2, 6, 10, 3, 1, 0, -5]\n",
      "pass   4:   [9, 8, 7, 5, 4, 6, 2, 10, 3, 1, 0, -5]\n",
      "pass   5:   [9, 8, 7, 5, 4, 6, 10, 2, 3, 1, 0, -5]\n",
      "pass   6:   [9, 8, 7, 5, 4, 6, 10, 3, 2, 1, 0, -5]\n",
      "pass   7:   [9, 8, 7, 5, 6, 4, 10, 3, 2, 1, 0, -5]\n",
      "pass   8:   [9, 8, 7, 5, 6, 10, 4, 3, 2, 1, 0, -5]\n",
      "pass   9:   [9, 8, 7, 6, 5, 10, 4, 3, 2, 1, 0, -5]\n",
      "pass   10:   [9, 8, 7, 6, 10, 5, 4, 3, 2, 1, 0, -5]\n",
      "pass   11:   [9, 8, 7, 10, 6, 5, 4, 3, 2, 1, 0, -5]\n",
      "pass   12:   [9, 8, 10, 7, 6, 5, 4, 3, 2, 1, 0, -5]\n",
      "pass   13:   [9, 10, 8, 7, 6, 5, 4, 3, 2, 1, 0, -5]\n",
      "pass   14:   [10, 9, 8, 7, 6, 5, 4, 3, 2, 1, 0, -5]\n",
      "Sorted List: [10, 9, 8, 7, 6, 5, 4, 3, 2, 1, 0, -5]\n",
      "The 5th Element: 6\n"
     ]
    }
   ],
   "source": [
    "countdown2 = [9, 8, 7, 5, 4, 2, 1, 6, 10, 3, 0, -5]\n",
    "\n",
    "\n",
    "n = len(countdown2)\n",
    "print(f\"original:   {countdown2}\")\n",
    "p=1\n",
    "for i in range(n):\n",
    "    for j in range(0, n-i-1):\n",
    "        if countdown2[j] < countdown2[j+1]:\n",
    "            # Swap if the element found is less than the next element\n",
    "            countdown2[j], countdown2[j+1] = countdown2[j+1], countdown2[j]\n",
    "            print(f\"pass   {p}:   {countdown2}\")\n",
    "            p+=1\n",
    "\n",
    "\n",
    "the_fifth_element = countdown2[4]\n",
    "\n",
    "print(\"Sorted List:\", countdown2)\n",
    "print(\"The 5th Element:\", the_fifth_element)"
   ]
  },
  {
   "cell_type": "markdown",
   "metadata": {},
   "source": [
    "4. Write a program to add item 7000 after 6000 in the following Python List\n",
    "list1 = [10, 20, [300, 400, [5000, 6000], 500], 30, 40]\n",
    "\n",
    "#Expected output:\n",
    "#[10, 20, [300, 400, [5000, 6000, 7000], 500], 30, 40]"
   ]
  },
  {
   "cell_type": "code",
   "execution_count": 4,
   "metadata": {},
   "outputs": [
    {
     "name": "stdout",
     "output_type": "stream",
     "text": [
      "[10, 20, [300, 400, [5000, 6000, 7000], 500], 30, 40]\n"
     ]
    }
   ],
   "source": [
    "list1 = [10, 20, [300, 400, [5000, 6000], 500], 30, 40]\n",
    "list1[2][2].insert(2, 7000)\n",
    "print(list1)"
   ]
  },
  {
   "cell_type": "markdown",
   "metadata": {},
   "source": [
    "5. Write a program to remove all occurrences of item 20 in the following list.\n",
    "list2 = [5, 20, 30, 15, 20, 30, 20]"
   ]
  },
  {
   "cell_type": "code",
   "execution_count": 5,
   "metadata": {},
   "outputs": [
    {
     "name": "stdout",
     "output_type": "stream",
     "text": [
      "[5, 15, 20, 30]\n"
     ]
    }
   ],
   "source": [
    "list3 = list(set([5, 20, 30, 15, 20, 30, 20]))\n",
    "\n",
    "\n",
    "print(sorted(list3))"
   ]
  },
  {
   "cell_type": "markdown",
   "metadata": {},
   "source": [
    "6. Using the following dictionary .. (Use python to solve for the answer.)\n",
    "dict = {\"Course\": \"DATA 606\", \"Program\": \"MSDS\", \"School\": \"CUNYSPS\"}\n",
    "\n",
    "a. What is the name of the course?\n",
    "\n",
    "b. Change the course to DATA602\n",
    "\n",
    "c. Add new information to the dictionary - \"Professor\" with \"Schettini\"\n",
    "\n",
    "d. Using the len function, find how many keys there are in the dictionary. "
   ]
  },
  {
   "cell_type": "code",
   "execution_count": 6,
   "metadata": {},
   "outputs": [
    {
     "name": "stdout",
     "output_type": "stream",
     "text": [
      "DATA 606\n",
      "Data 602\n",
      "{'Course': 'Data 602', 'Program': 'MSDS', 'School': 'CUNYSPS', 'Professor': 'Schettini'}\n",
      "4\n"
     ]
    }
   ],
   "source": [
    "dict = {\"Course\": \"DATA 606\", \"Program\": \"MSDS\", \"School\": \"CUNYSPS\"}\n",
    "print(dict[\"Course\"])\n",
    "dict[\"Course\"]=\"Data 602\"\n",
    "print(dict[\"Course\"])\n",
    "dict[\"Professor\"]=\"Schettini\"\n",
    "print(dict)\n",
    "print(len(dict))"
   ]
  },
  {
   "cell_type": "markdown",
   "metadata": {},
   "source": [
    "7.  Write a Python program to change Brad’s salary to 7500 in the following dictionary."
   ]
  },
  {
   "cell_type": "code",
   "execution_count": 7,
   "metadata": {},
   "outputs": [
    {
     "name": "stdout",
     "output_type": "stream",
     "text": [
      "{'name': 'Brad', 'salary': 7500}\n"
     ]
    }
   ],
   "source": [
    "sample_dict = {\n",
    "    'emp1': {'name': 'Amanda', 'salary': 8200},\n",
    "    'emp2': {'name': 'John', 'salary': 8000},\n",
    "    'emp3': {'name': 'Brad', 'salary': 700}\n",
    "}\n",
    "sample_dict['emp3'][\"salary\"]=7500\n",
    "print(sample_dict['emp3'])"
   ]
  }
 ],
 "metadata": {
  "kernelspec": {
   "display_name": "base",
   "language": "python",
   "name": "python3"
  },
  "language_info": {
   "codemirror_mode": {
    "name": "ipython",
    "version": 3
   },
   "file_extension": ".py",
   "mimetype": "text/x-python",
   "name": "python",
   "nbconvert_exporter": "python",
   "pygments_lexer": "ipython3",
   "version": "3.12.4"
  }
 },
 "nbformat": 4,
 "nbformat_minor": 2
}
