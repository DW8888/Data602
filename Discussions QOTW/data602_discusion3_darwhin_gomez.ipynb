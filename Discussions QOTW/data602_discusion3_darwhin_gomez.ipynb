{
 "cells": [
  {
   "cell_type": "markdown",
   "metadata": {},
   "source": [
    "1. Create a list called animals that contain the following: cat, dog, manta ray, horse, crouching tiger\n",
    "2. Repeat question 1 and loop through and print each item in the animal list by iterating through an index number and using range(). Set a variable len_animals to the length of the animal list."
   ]
  },
  {
   "cell_type": "code",
   "execution_count": 4,
   "metadata": {},
   "outputs": [
    {
     "name": "stdout",
     "output_type": "stream",
     "text": [
      "['cat', 'dog', 'manta ray', 'horse', 'crouching tiger'] 5\n",
      "cat\n",
      "dog\n",
      "manta ray\n",
      "horse\n",
      "crouching tiger\n"
     ]
    }
   ],
   "source": [
    "animals =[\"cat\",\"dog\",\"manta ray\", \"horse\",\"crouching tiger\"]\n",
    "len_animals=len(animals)\n",
    "print(animals, len_animals)\n",
    "for index in range(len_animals):\n",
    "    print(animals[index])"
   ]
  },
  {
   "cell_type": "markdown",
   "metadata": {},
   "source": [
    "3. Programmatically reorganize the countdown list below in descending order and return the value of the 5th element in the sorted countdown list.\n",
    "    The 5th element will be stored in the variable the_fifth_element, which currently below has a dummy value of -999.\n",
    "    Remember, the index number of the 5th element is not 5\n",
    "countdown = [9, 8, 7, 5, 4, 2, 1, 6, 10, 3, 0, -5]\n",
    "the_fifth_element = -999"
   ]
  },
  {
   "cell_type": "code",
   "execution_count": 8,
   "metadata": {},
   "outputs": [
    {
     "name": "stdout",
     "output_type": "stream",
     "text": [
      "[10, 9, 8, 7, 6, 5, 4, 3, 2, 1, 0, -5]\n",
      "6\n"
     ]
    }
   ],
   "source": [
    "countdown = [9, 8, 7, 5, 4, 2, 1, 6, 10, 3, 0, -5]\n",
    "\n",
    "countdown = sorted(countdown,reverse=True)\n",
    "print(countdown)\n",
    "the_fifth_element = countdown[4]\n",
    "print(the_fifth_element)"
   ]
  },
  {
   "cell_type": "code",
   "execution_count": 32,
   "metadata": {},
   "outputs": [
    {
     "name": "stdout",
     "output_type": "stream",
     "text": [
      "original:   [9, 8, 7, 5, 4, 2, 1, 6, 10, 3, 0, -5]\n",
      "pass   1:   [8, 9, 7, 5, 4, 2, 1, 6, 10, 3, 0, -5]\n",
      "pass   2:   [8, 7, 9, 5, 4, 2, 1, 6, 10, 3, 0, -5]\n",
      "pass   3:   [8, 7, 5, 9, 4, 2, 1, 6, 10, 3, 0, -5]\n",
      "pass   4:   [8, 7, 5, 4, 9, 2, 1, 6, 10, 3, 0, -5]\n",
      "pass   5:   [8, 7, 5, 4, 2, 9, 1, 6, 10, 3, 0, -5]\n",
      "pass   6:   [8, 7, 5, 4, 2, 1, 9, 6, 10, 3, 0, -5]\n",
      "pass   7:   [8, 7, 5, 4, 2, 1, 6, 9, 10, 3, 0, -5]\n",
      "pass   8:   [8, 7, 5, 4, 2, 1, 6, 9, 3, 10, 0, -5]\n",
      "pass   9:   [8, 7, 5, 4, 2, 1, 6, 9, 3, 0, 10, -5]\n",
      "pass   10:   [8, 7, 5, 4, 2, 1, 6, 9, 3, 0, -5, 10]\n",
      "pass   11:   [7, 8, 5, 4, 2, 1, 6, 9, 3, 0, -5, 10]\n",
      "pass   12:   [7, 5, 8, 4, 2, 1, 6, 9, 3, 0, -5, 10]\n",
      "pass   13:   [7, 5, 4, 8, 2, 1, 6, 9, 3, 0, -5, 10]\n",
      "pass   14:   [7, 5, 4, 2, 8, 1, 6, 9, 3, 0, -5, 10]\n",
      "pass   15:   [7, 5, 4, 2, 1, 8, 6, 9, 3, 0, -5, 10]\n",
      "pass   16:   [7, 5, 4, 2, 1, 6, 8, 9, 3, 0, -5, 10]\n",
      "pass   17:   [7, 5, 4, 2, 1, 6, 8, 3, 9, 0, -5, 10]\n",
      "pass   18:   [7, 5, 4, 2, 1, 6, 8, 3, 0, 9, -5, 10]\n",
      "pass   19:   [7, 5, 4, 2, 1, 6, 8, 3, 0, -5, 9, 10]\n",
      "pass   20:   [5, 7, 4, 2, 1, 6, 8, 3, 0, -5, 9, 10]\n",
      "pass   21:   [5, 4, 7, 2, 1, 6, 8, 3, 0, -5, 9, 10]\n",
      "pass   22:   [5, 4, 2, 7, 1, 6, 8, 3, 0, -5, 9, 10]\n",
      "pass   23:   [5, 4, 2, 1, 7, 6, 8, 3, 0, -5, 9, 10]\n",
      "pass   24:   [5, 4, 2, 1, 6, 7, 8, 3, 0, -5, 9, 10]\n",
      "pass   25:   [5, 4, 2, 1, 6, 7, 3, 8, 0, -5, 9, 10]\n",
      "pass   26:   [5, 4, 2, 1, 6, 7, 3, 0, 8, -5, 9, 10]\n",
      "pass   27:   [5, 4, 2, 1, 6, 7, 3, 0, -5, 8, 9, 10]\n",
      "pass   28:   [4, 5, 2, 1, 6, 7, 3, 0, -5, 8, 9, 10]\n",
      "pass   29:   [4, 2, 5, 1, 6, 7, 3, 0, -5, 8, 9, 10]\n",
      "pass   30:   [4, 2, 1, 5, 6, 7, 3, 0, -5, 8, 9, 10]\n",
      "pass   31:   [4, 2, 1, 5, 6, 3, 7, 0, -5, 8, 9, 10]\n",
      "pass   32:   [4, 2, 1, 5, 6, 3, 0, 7, -5, 8, 9, 10]\n",
      "pass   33:   [4, 2, 1, 5, 6, 3, 0, -5, 7, 8, 9, 10]\n",
      "pass   34:   [2, 4, 1, 5, 6, 3, 0, -5, 7, 8, 9, 10]\n",
      "pass   35:   [2, 1, 4, 5, 6, 3, 0, -5, 7, 8, 9, 10]\n",
      "pass   36:   [2, 1, 4, 5, 3, 6, 0, -5, 7, 8, 9, 10]\n",
      "pass   37:   [2, 1, 4, 5, 3, 0, 6, -5, 7, 8, 9, 10]\n",
      "pass   38:   [2, 1, 4, 5, 3, 0, -5, 6, 7, 8, 9, 10]\n",
      "pass   39:   [1, 2, 4, 5, 3, 0, -5, 6, 7, 8, 9, 10]\n",
      "pass   40:   [1, 2, 4, 3, 5, 0, -5, 6, 7, 8, 9, 10]\n",
      "pass   41:   [1, 2, 4, 3, 0, 5, -5, 6, 7, 8, 9, 10]\n",
      "pass   42:   [1, 2, 4, 3, 0, -5, 5, 6, 7, 8, 9, 10]\n",
      "pass   43:   [1, 2, 3, 4, 0, -5, 5, 6, 7, 8, 9, 10]\n",
      "pass   44:   [1, 2, 3, 0, 4, -5, 5, 6, 7, 8, 9, 10]\n",
      "pass   45:   [1, 2, 3, 0, -5, 4, 5, 6, 7, 8, 9, 10]\n",
      "pass   46:   [1, 2, 0, 3, -5, 4, 5, 6, 7, 8, 9, 10]\n",
      "pass   47:   [1, 2, 0, -5, 3, 4, 5, 6, 7, 8, 9, 10]\n",
      "pass   48:   [1, 0, 2, -5, 3, 4, 5, 6, 7, 8, 9, 10]\n",
      "pass   49:   [1, 0, -5, 2, 3, 4, 5, 6, 7, 8, 9, 10]\n",
      "pass   50:   [0, 1, -5, 2, 3, 4, 5, 6, 7, 8, 9, 10]\n",
      "pass   51:   [0, -5, 1, 2, 3, 4, 5, 6, 7, 8, 9, 10]\n",
      "pass   52:   [-5, 0, 1, 2, 3, 4, 5, 6, 7, 8, 9, 10]\n",
      "Sorted List: [-5, 0, 1, 2, 3, 4, 5, 6, 7, 8, 9, 10]\n",
      "The 5th Element: 3\n"
     ]
    }
   ],
   "source": [
    "countdown2 = [9, 8, 7, 5, 4, 2, 1, 6, 10, 3, 0, -5]\n",
    "\n",
    "\n",
    "n = len(countdown2)\n",
    "print(f\"original:   {countdown2}\")\n",
    "p=1\n",
    "for i in range(n):\n",
    "    for j in range(0, n-i-1):\n",
    "        if countdown2[j] < countdown2[j+1]:\n",
    "            # Swap if the element found is less than the next element\n",
    "            countdown2[j], countdown2[j+1] = countdown2[j+1], countdown2[j]\n",
    "            print(f\"pass   {p}:   {countdown2}\")\n",
    "            p+=1\n",
    "\n",
    "\n",
    "the_fifth_element = countdown2[4]\n",
    "\n",
    "print(\"Sorted List:\", countdown2)\n",
    "print(\"The 5th Element:\", the_fifth_element)"
   ]
  },
  {
   "cell_type": "markdown",
   "metadata": {},
   "source": [
    "4. Write a program to add item 7000 after 6000 in the following Python List\n",
    "list1 = [10, 20, [300, 400, [5000, 6000], 500], 30, 40]\n",
    "\n",
    "#Expected output:\n",
    "#[10, 20, [300, 400, [5000, 6000, 7000], 500], 30, 40]"
   ]
  },
  {
   "cell_type": "code",
   "execution_count": 35,
   "metadata": {},
   "outputs": [
    {
     "name": "stdout",
     "output_type": "stream",
     "text": [
      "[10, 20, [300, 400, [5000, 6000, 7000], 500], 30, 40]\n"
     ]
    }
   ],
   "source": [
    "list1 = [10, 20, [300, 400, [5000, 6000], 500], 30, 40]\n",
    "list1[2][2].insert(2, 7000)\n",
    "print(list1)"
   ]
  },
  {
   "cell_type": "markdown",
   "metadata": {},
   "source": [
    "5. Write a program to remove all occurrences of item 20 in the following list.\n",
    "list2 = [5, 20, 30, 15, 20, 30, 20]"
   ]
  },
  {
   "cell_type": "code",
   "execution_count": 48,
   "metadata": {},
   "outputs": [
    {
     "name": "stdout",
     "output_type": "stream",
     "text": [
      "[5, 15, 20, 30]\n"
     ]
    }
   ],
   "source": [
    "list3 = list(set([5, 20, 30, 15, 20, 30, 20]))\n",
    "\n",
    "\n",
    "print(sorted(list3))"
   ]
  },
  {
   "cell_type": "markdown",
   "metadata": {},
   "source": [
    "6. Using the following dictionary .. (Use python to solve for the answer.)\n",
    "dict = {\"Course\": \"DATA 606\", \"Program\": \"MSDS\", \"School\": \"CUNYSPS\"}\n",
    "\n",
    "a. What is the name of the course?\n",
    "\n",
    "b. Change the course to DATA602\n",
    "\n",
    "c. Add new information to the dictionary - \"Professor\" with \"Schettini\"\n",
    "\n",
    "d. Using the len function, find how many keys there are in the dictionary. "
   ]
  },
  {
   "cell_type": "code",
   "execution_count": 52,
   "metadata": {},
   "outputs": [
    {
     "name": "stdout",
     "output_type": "stream",
     "text": [
      "DATA 606\n",
      "Data 602\n",
      "{'Course': 'Data 602', 'Program': 'MSDS', 'School': 'CUNYSPS', 'Professor': 'Schettini'}\n",
      "4\n"
     ]
    }
   ],
   "source": [
    "dict = {\"Course\": \"DATA 606\", \"Program\": \"MSDS\", \"School\": \"CUNYSPS\"}\n",
    "print(dict[\"Course\"])\n",
    "dict[\"Course\"]=\"Data 602\"\n",
    "print(dict[\"Course\"])\n",
    "dict[\"Professor\"]=\"Schettini\"\n",
    "print(dict)\n",
    "print(len(dict))"
   ]
  },
  {
   "cell_type": "markdown",
   "metadata": {},
   "source": [
    "7.  Write a Python program to change Brad’s salary to 7500 in the following dictionary."
   ]
  },
  {
   "cell_type": "code",
   "execution_count": 57,
   "metadata": {},
   "outputs": [
    {
     "name": "stdout",
     "output_type": "stream",
     "text": [
      "{'name': 'Brad', 'salary': 7500}\n"
     ]
    }
   ],
   "source": [
    "sample_dict = {\n",
    "    'emp1': {'name': 'Amanda', 'salary': 8200},\n",
    "    'emp2': {'name': 'John', 'salary': 8000},\n",
    "    'emp3': {'name': 'Brad', 'salary': 700}\n",
    "}\n",
    "sample_dict['emp3'][\"salary\"]=7500\n",
    "print(sample_dict['emp3'])"
   ]
  }
 ],
 "metadata": {
  "kernelspec": {
   "display_name": "base",
   "language": "python",
   "name": "python3"
  },
  "language_info": {
   "codemirror_mode": {
    "name": "ipython",
    "version": 3
   },
   "file_extension": ".py",
   "mimetype": "text/x-python",
   "name": "python",
   "nbconvert_exporter": "python",
   "pygments_lexer": "ipython3",
   "version": "3.12.4"
  }
 },
 "nbformat": 4,
 "nbformat_minor": 2
}
