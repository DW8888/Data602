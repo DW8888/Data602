{
 "cells": [
  {
   "cell_type": "markdown",
   "metadata": {},
   "source": [
    "1. What are the similarities and differences between pandas and numpy?   Include some type of example with code.\n"
   ]
  },
  {
   "cell_type": "markdown",
   "metadata": {},
   "source": [
    "Pandas and NumPy are both Python libraries for efficient data handling, supporting fast operations and functions like mean and sum, making them essential for data analysis.\n",
    "\n",
    "NumPy focuses on numerical data using the ndarray (n-dimensional array) structure, which works best with consistent data types across the array. Pandas, on the other hand, provides Series (single-column labeled arrays) and DataFrames (two-dimensional labeled tables), which allow for easier handling of mixed data types. The labeled structure of Series and DataFrames makes data manipulation in Pandas more intuitive and readable compared to the position-based indexing in NumPy’s ndarray."
   ]
  },
  {
   "cell_type": "code",
   "execution_count": 14,
   "metadata": {},
   "outputs": [
    {
     "name": "stdout",
     "output_type": "stream",
     "text": [
      "3D NumPy Array:\n",
      " [[10 20 30]\n",
      " [40 50 60]\n",
      " [70 80 90]]\n",
      "Sum for each column in the 3D array:\n",
      " [120 150 180]\n",
      "Houses of Westeros Troop Counts:\n",
      "        House  Troops_Before  Troops_After\n",
      "0      Stark          50000         30000\n",
      "1  Lannister          70000         50000\n",
      "2  Baratheon          40000         10000\n",
      "3      Tully          30000         15000\n",
      "4    Greyjoy          25000         20000\n",
      "5      Arryn          20000         15000\n",
      "6    Martell          45000         40000\n"
     ]
    }
   ],
   "source": [
    "import numpy as np\n",
    "import pandas as pd\n",
    "\n",
    "# Creating a 3D array with numbers in the 10s for readability\n",
    "num_2d_arr = np.array([\n",
    "  [10, 20, 30],\n",
    "    [40, 50, 60],\n",
    "    [70, 80, 90]\n",
    "])\n",
    "\n",
    "print(\"3D NumPy Array:\\n\", num_2d_arr)\n",
    "\n",
    "# Summing across the first axis \n",
    "sum_cols = np.sum(num_2d_arr, axis=0)\n",
    "print(\"Sum for each column in the 3D array:\\n\", sum_cols)\n",
    "\n",
    "\n",
    "###################### pandas df example\n",
    "fk_got_data = {\n",
    "    'House': ['Stark', 'Lannister', 'Baratheon', 'Tully', 'Greyjoy', 'Arryn', 'Martell'],\n",
    "    'Troops_Before': [50000, 70000, 40000, 30000, 25000, 20000, 45000],\n",
    "    'Troops_After': [30000, 50000, 10000, 15000, 20000, 15000, 40000]\n",
    "}\n",
    "\n",
    "# Creating the DataFrame\n",
    "houses_of_westeros = pd.DataFrame(fk_got_data)\n",
    "print(\"Houses of Westeros Troop Counts:\\n\", houses_of_westeros)\n"
   ]
  },
  {
   "cell_type": "markdown",
   "metadata": {},
   "source": [
    "2. What is the ndarray in numPy?\n",
    "\n"
   ]
  },
  {
   "cell_type": "markdown",
   "metadata": {},
   "source": [
    "The \"n\" in ndarray means it can have multiple dimensions:\n",
    "\n",
    "A 1D array is essentially a straightforward list of numbers.\n",
    "A 2D array resembles a table or matrix with rows and columns.\n",
    "A 3D array introduces layers, like stacking several 2D tables on top of each other."
   ]
  },
  {
   "cell_type": "markdown",
   "metadata": {},
   "source": [
    "3. Create a 1D array of numbers from 0 to 9 \n",
    "Desired Output: \n",
    "array([0, 1, 2, 3, 4, 5, 6, 7, 8, 9])\n"
   ]
  },
  {
   "cell_type": "code",
   "execution_count": 15,
   "metadata": {},
   "outputs": [
    {
     "name": "stdout",
     "output_type": "stream",
     "text": [
      "[0 1 2 3 4 5 6 7 8 9]\n"
     ]
    }
   ],
   "source": [
    "decimalnums = np.array([0,1,2,3,4,5,6,7,8,9])\n",
    "print(decimalnums)"
   ]
  },
  {
   "cell_type": "markdown",
   "metadata": {},
   "source": [
    "4. Extract all odd numbers from array1 \n",
    "array1 = np.array([0, 1, 2, 3, 4, 5, 6, 7, 8, 9])\n"
   ]
  },
  {
   "cell_type": "code",
   "execution_count": 16,
   "metadata": {},
   "outputs": [
    {
     "name": "stdout",
     "output_type": "stream",
     "text": [
      " Odd Numbers: [1 3 5 7 9]\n"
     ]
    }
   ],
   "source": [
    "decimalnums = decimalnums[decimalnums % 2 != 0]\n",
    "print(\" Odd Numbers:\", decimalnums)"
   ]
  },
  {
   "cell_type": "markdown",
   "metadata": {},
   "source": [
    "5. Get the common items between a and  b  \n",
    "#input\n",
    "a = np.array([1,2,3,2,3,4,3,4,5,6])\n",
    "b = np.array([7,2,10,2,7,4,9,4,9,8])\n",
    "\n",
    "#Desired Output:\n",
    "\n",
    "array([2, 4])\n"
   ]
  },
  {
   "cell_type": "code",
   "execution_count": 17,
   "metadata": {},
   "outputs": [
    {
     "name": "stdout",
     "output_type": "stream",
     "text": [
      "Common elements: [2 4]\n"
     ]
    }
   ],
   "source": [
    "a = np.array([1,2,3,2,3,4,3,4,5,6])\n",
    "b = np.array([7,2,10,2,7,4,9,4,9,8])\n",
    "\n",
    "ab = np.intersect1d(a, b)\n",
    "print(\"Common elements:\", ab)"
   ]
  },
  {
   "cell_type": "markdown",
   "metadata": {},
   "source": [
    "6. From array a remove all items present in array  b \n",
    "#Input:\n",
    "\n",
    "a = np.array([1,2,3,4,5])\n",
    "b = np.array([5,6,7,8,9])\n",
    "\n",
    "#Desired Output:\n",
    "\n",
    "array([1,2,3,4])\n"
   ]
  },
  {
   "cell_type": "code",
   "execution_count": 18,
   "metadata": {},
   "outputs": [
    {
     "name": "stdout",
     "output_type": "stream",
     "text": [
      "[1 2 3 4]\n"
     ]
    }
   ],
   "source": [
    "a = np.array([1,2,3,4,5])\n",
    "b = np.array([5,6,7,8,9])\n",
    "a = np.setdiff1d(a,b)\n",
    "print(a)"
   ]
  },
  {
   "cell_type": "markdown",
   "metadata": {},
   "source": [
    "7. Find out if iris has any missing values. \n",
    "# Input\n",
    "url = 'https://archive.ics.uci.edu/ml/machine-learning-databases/iris/iris.data'\n",
    "iris = np.genfromtxt(url, delimiter=',', dtype='float', usecols=[0,1,2,3])"
   ]
  },
  {
   "cell_type": "code",
   "execution_count": 19,
   "metadata": {},
   "outputs": [
    {
     "name": "stdout",
     "output_type": "stream",
     "text": [
      "[[5.1 3.5 1.4 0.2]\n",
      " [4.9 3.  1.4 0.2]\n",
      " [4.7 3.2 1.3 0.2]\n",
      " [4.6 3.1 1.5 0.2]\n",
      " [5.  3.6 1.4 0.2]]\n",
      "True Or False,\n",
      "Does the Iris dataset contain any NaN values?\n",
      " False\n"
     ]
    }
   ],
   "source": [
    "url = 'https://archive.ics.uci.edu/ml/machine-learning-databases/iris/iris.data'\n",
    "iris = np.genfromtxt(url, delimiter=',', dtype='float', usecols=[0,1,2,3])\n",
    "\n",
    "print(iris[:5])\n",
    "## lets see if any cell in iris returns a non number\n",
    "has_nan = np.isnan(iris).any()\n",
    "print(\"True Or False,\\nDoes the Iris dataset contain any NaN values?\\n\",has_nan)"
   ]
  }
 ],
 "metadata": {
  "kernelspec": {
   "display_name": "base",
   "language": "python",
   "name": "python3"
  },
  "language_info": {
   "codemirror_mode": {
    "name": "ipython",
    "version": 3
   },
   "file_extension": ".py",
   "mimetype": "text/x-python",
   "name": "python",
   "nbconvert_exporter": "python",
   "pygments_lexer": "ipython3",
   "version": "3.12.4"
  }
 },
 "nbformat": 4,
 "nbformat_minor": 2
}
