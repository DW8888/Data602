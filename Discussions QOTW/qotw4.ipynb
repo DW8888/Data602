{
 "cells": [
  {
   "cell_type": "markdown",
   "metadata": {},
   "source": [
    "1. Write a function to calculate the area and perimeter of a rectangle.\n"
   ]
  },
  {
   "cell_type": "code",
   "execution_count": 4,
   "metadata": {},
   "outputs": [
    {
     "name": "stdout",
     "output_type": "stream",
     "text": [
      "Area: 50\n",
      "Perimeter:30\n"
     ]
    }
   ],
   "source": [
    "def quad_func(length,width):\n",
    "    area = length*width\n",
    "    perimeter = 2 *(length + width)\n",
    "    print(f\"Area: {area}\\nPerimeter:{perimeter}\")\n",
    "quad_func(10,5)\n"
   ]
  },
  {
   "cell_type": "markdown",
   "metadata": {},
   "source": [
    "2. Write a function to check if a number is even or not.  The function should indicate to the user even or odd.\n"
   ]
  },
  {
   "cell_type": "code",
   "execution_count": 6,
   "metadata": {},
   "outputs": [
    {
     "name": "stdout",
     "output_type": "stream",
     "text": [
      "odd\n",
      "even\n"
     ]
    }
   ],
   "source": [
    "def even_odd(num):\n",
    "    if num % 2 == 0:\n",
    "        print(\"even\")\n",
    "    else:\n",
    "        print(\"odd\")\n",
    "even_odd(9)\n",
    "even_odd(10)\n"
   ]
  },
  {
   "cell_type": "markdown",
   "metadata": {},
   "source": [
    "3. Write a Python function that accepts a string and calculate the number of upper case letters and lower case letters.\n",
    "Sample string: “CUNY sps”\n",
    "# of upper case characters: 4\n",
    "# of lower case characters: 3\n"
   ]
  },
  {
   "cell_type": "code",
   "execution_count": 31,
   "metadata": {},
   "outputs": [
    {
     "name": "stdout",
     "output_type": "stream",
     "text": [
      "lowercase: 3\n",
      "uppercase: 4\n"
     ]
    }
   ],
   "source": [
    "def case_counter(word):\n",
    "    uppers=0\n",
    "    lowers=0\n",
    "    for char in word:\n",
    "        if not char.isalpha():\n",
    "            continue\n",
    "        elif char.isupper():\n",
    "            uppers += 1\n",
    "        else:\n",
    "            lowers +=1\n",
    "    return f\"lowercase: {lowers}\\nuppercase: {uppers}\"\n",
    "\n",
    "result = case_counter(\"CUNY sps\")\n",
    "print(result)  "
   ]
  },
  {
   "cell_type": "markdown",
   "metadata": {},
   "source": [
    "4. Write a Python function to sum all the numbers in a list\n"
   ]
  },
  {
   "cell_type": "code",
   "execution_count": 15,
   "metadata": {},
   "outputs": [
    {
     "name": "stdout",
     "output_type": "stream",
     "text": [
      "39\n"
     ]
    }
   ],
   "source": [
    "def lets_add(nums):\n",
    "    adding=0\n",
    "    for i in nums:\n",
    "        adding += i\n",
    "    return adding\n",
    "\n",
    "\n",
    "test = lets_add([1,4,30,32,2,-30])\n",
    "print(test)"
   ]
  },
  {
   "cell_type": "markdown",
   "metadata": {},
   "source": [
    "5. Create a function that shows an example of global vs local variables.\n"
   ]
  },
  {
   "cell_type": "code",
   "execution_count": 23,
   "metadata": {},
   "outputs": [
    {
     "name": "stdout",
     "output_type": "stream",
     "text": [
      "Result using local x: False\n",
      "Global x: 15\n"
     ]
    }
   ],
   "source": [
    "#Global\n",
    "x = 15\n",
    "\n",
    "def multiple_5():\n",
    "    # Local variable \n",
    "    x = 9\n",
    "    \n",
    "    if x % 5 == 0:\n",
    "        return True  \n",
    "    else:\n",
    "        return False\n",
    "\n",
    "# Call the function\n",
    "print(\"Result using local x:\", multiple_5())\n",
    "\n",
    "# Access the global variable outside the function\n",
    "print(\"Global x:\", x)\n",
    "\n"
   ]
  },
  {
   "cell_type": "markdown",
   "metadata": {},
   "source": [
    "6. Write a Python program to create a function that takes one argument, and that argument will be multiplied with an unknown given number."
   ]
  },
  {
   "cell_type": "code",
   "execution_count": 30,
   "metadata": {},
   "outputs": [
    {
     "name": "stdout",
     "output_type": "stream",
     "text": [
      "25\n",
      "40\n"
     ]
    }
   ],
   "source": [
    "def unknown_mulitplier(arg):\n",
    "     unk = int(input(\"enter a number\"))\n",
    "     return arg*unk\n",
    "test1 = 5\n",
    "test2 = 4\n",
    "print(unknown_mulitplier(test1),unknown_mulitplier(test2), sep = \"\\n\")"
   ]
  }
 ],
 "metadata": {
  "kernelspec": {
   "display_name": "base",
   "language": "python",
   "name": "python3"
  },
  "language_info": {
   "codemirror_mode": {
    "name": "ipython",
    "version": 3
   },
   "file_extension": ".py",
   "mimetype": "text/x-python",
   "name": "python",
   "nbconvert_exporter": "python",
   "pygments_lexer": "ipython3",
   "version": "3.12.4"
  }
 },
 "nbformat": 4,
 "nbformat_minor": 2
}
