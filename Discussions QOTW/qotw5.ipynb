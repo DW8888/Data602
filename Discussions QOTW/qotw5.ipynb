{
 "cells": [
  {
   "cell_type": "markdown",
   "metadata": {},
   "source": [
    "1. Write a Python class to reverse a string word by word.\n",
    "Example:\n",
    "Input string : 'hello .py'\n",
    "Expected Output : '.py hello'\n"
   ]
  },
  {
   "cell_type": "code",
   "execution_count": 15,
   "metadata": {},
   "outputs": [
    {
     "name": "stdout",
     "output_type": "stream",
     "text": [
      ".py hello\n",
      "hello .py\n",
      "test python a is this\n",
      "welcome to python\n",
      "go Jets Go\n",
      "Harry wizard a You're\n",
      "Yoda like wise Speak\n",
      "mind over matter matter over Mind\n",
      "Hodor Hodor Hodor Holdoor Holddoor Holddoor HoldTheDoor HoldTheDoor HoldTheDoor\n",
      "HoldTheDoor HoldTheDoor HoldTheDoor Holddoor Holddoor Holdoor Hodor Hodor Hodor\n"
     ]
    }
   ],
   "source": [
    "\n",
    "# define class:\n",
    "class reverse_the_string:\n",
    "# lets give it something to do\n",
    "    def word_reverse(self,input_string):# call yourself, with some input string\n",
    "\n",
    "        #split will tkae string and sep at \" \" and append each to a list\n",
    "         # if we needed additional spliting conditions we could use a regualr expression :) yuck\n",
    "        sep_words= input_string.split()\n",
    "\n",
    "       \n",
    "        # using index splicing we will reverse the order of sep_words and assign it it rev_words\n",
    "        rev_words= sep_words[::-1]\n",
    "        # we need to join the words back, we can do this and return at \n",
    "        # the same time we will use \" \" to join on\n",
    "        return \" \".join(rev_words)\n",
    "    \n",
    "testtrings=[\"hello .py\", \".py hello\",\n",
    "    \"this is a python test\", \"python to welcome\",\n",
    "    \"Go Jets go\", \"You're a wizard Harry\",\"Speak wise like Yoda\",\"Mind over matter matter over mind\",\n",
    "    \"HoldTheDoor HoldTheDoor HoldTheDoor  Holddoor Holddoor Holdoor Hodor Hodor Hodor\",\n",
    "    \"Hodor Hodor Hodor Holdoor Holddoor Holddoor  HoldTheDoor HoldTheDoor HoldTheDoor\"]\n",
    "\n",
    "test = reverse_the_string\n",
    "for phrase in testtrings:\n",
    "\n",
    "    print(test.word_reverse(phrase))\n",
    "  "
   ]
  },
  {
   "cell_type": "markdown",
   "metadata": {},
   "source": [
    "2. Write a Python class named Circle constructed by a radius and two methods which will compute the area and the perimeter of a circle.\n"
   ]
  },
  {
   "cell_type": "code",
   "execution_count": 33,
   "metadata": {},
   "outputs": [
    {
     "name": "stdout",
     "output_type": "stream",
     "text": [
      " Circle radius: 5\n",
      "  Area: 78.54. Circumference: 31.42\n",
      " Circle radius: 15\n",
      "  Area: 706.86. Circumference: 94.25\n",
      " Circle radius: 2\n",
      "  Area: 12.57. Circumference: 12.57\n",
      " Circle radius: 3\n",
      "  Area: 28.27. Circumference: 18.85\n",
      " Circle radius: 0\n",
      "  Area: 0.00. Circumference: 0.00\n",
      " Circle radius: -3\n",
      "  Area: 28.27. Circumference: -18.85\n"
     ]
    }
   ],
   "source": [
    "import math as ma\n",
    "class Circle():\n",
    "    ## insitalize with a radius \n",
    "    def __init__(self,r):\n",
    "        self.radius = r\n",
    "\n",
    "        #return the area radius squared * pi\n",
    "    def area(self):\n",
    "        return self.radius **2 * ma.pi\n",
    "    \n",
    "    # the perimeter of a circle is the circumference which is found b c= 2*pi*radius\n",
    "    def circumference(self):\n",
    "\n",
    "        return self.radius * ma.pi * 2\n",
    "\n",
    "### TESTING formating to 2 decimals places for clear output\n",
    "testcircles=[5,15,2,3,0,-3]\n",
    "for radius in testcircles:\n",
    "    thisCircle = Circle(radius)\n",
    "    print(f\" Circle radius: {radius}\\n  Area: {thisCircle.area():.2f}.\",  \n",
    "    f\"Circumference: {thisCircle.circumference():.2f}\")\n",
    "\n"
   ]
  }
 ],
 "metadata": {
  "kernelspec": {
   "display_name": "base",
   "language": "python",
   "name": "python3"
  },
  "language_info": {
   "codemirror_mode": {
    "name": "ipython",
    "version": 3
   },
   "file_extension": ".py",
   "mimetype": "text/x-python",
   "name": "python",
   "nbconvert_exporter": "python",
   "pygments_lexer": "ipython3",
   "version": "3.12.4"
  }
 },
 "nbformat": 4,
 "nbformat_minor": 2
}
